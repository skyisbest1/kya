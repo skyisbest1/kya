{
  "nbformat": 4,
  "nbformat_minor": 0,
  "metadata": {
    "colab": {
      "name": "Colaboratory에 오신 것을 환영합니다",
      "provenance": [],
      "collapsed_sections": [],
      "toc_visible": true,
      "include_colab_link": true
    },
    "kernelspec": {
      "display_name": "Python 3",
      "name": "python3"
    }
  },
  "cells": [
    {
      "cell_type": "markdown",
      "metadata": {
        "id": "view-in-github",
        "colab_type": "text"
      },
      "source": [
        "<a href=\"https://colab.research.google.com/github/skyisbest1/kya/blob/master/Colaboratory%EC%97%90_%EC%98%A4%EC%8B%A0_%EA%B2%83%EC%9D%84_%ED%99%98%EC%98%81%ED%95%A9%EB%8B%88%EB%8B%A4.ipynb\" target=\"_parent\"><img src=\"https://colab.research.google.com/assets/colab-badge.svg\" alt=\"Open In Colab\"/></a>"
      ]
    },
    {
      "cell_type": "markdown",
      "metadata": {
        "colab_type": "text",
        "id": "5fCEDCU_qrC0"
      },
      "source": [
        "<p><img alt=\"Colaboratory logo\" height=\"45px\" src=\"/img/colab_favicon.ico\" align=\"left\" hspace=\"10px\" vspace=\"0px\"></p>\n",
        "\n",
        "<h1>Colaboratory에 오신 것을 환영합니다</h1>\n",
        "\n",
        "\n",
        "Colaboratory는 설치가 필요 없으며 완전히 클라우드에서 실행되는 무료 Jupyter 노트 환경입니다.\n",
        "\n",
        "Colaboratory를 사용하면 브라우저를 통해 무료로 코드를 작성 및 실행하고, 분석을 저장 및 공유하며, 강력한 컴퓨팅 리소스를 이용할 수 있습니다."
      ]
    },
    {
      "cell_type": "code",
      "metadata": {
        "colab_type": "code",
        "id": "xitplqMNk_Hc",
        "outputId": "ed4f60d2-878d-4056-c438-352dac39a112",
        "colab": {
          "height": 420
        }
      },
      "source": [
        "#@title Colaboratory 소개 { display-mode: \"form\" }\n",
        "#@markdown 3분 길이의 동영상을 통해 Colaboratory의 주요 기능을 간단하게 알아보세요.\n",
        "from IPython.display import YouTubeVideo\n",
        "YouTubeVideo('inN8seMm7UI', width=600, height=400)"
      ],
      "execution_count": 0,
      "outputs": [
        {
          "output_type": "execute_result",
          "data": {
            "text/html": [
              "\n",
              "        <iframe\n",
              "            width=\"600\"\n",
              "            height=\"400\"\n",
              "            src=\"https://www.youtube.com/embed/inN8seMm7UI\"\n",
              "            frameborder=\"0\"\n",
              "            allowfullscreen\n",
              "        ></iframe>\n",
              "        "
            ],
            "text/plain": [
              "<IPython.lib.display.YouTubeVideo at 0x7f956e9dda50>"
            ]
          },
          "metadata": {
            "tags": []
          },
          "execution_count": 0
        }
      ]
    },
    {
      "cell_type": "markdown",
      "metadata": {
        "colab_type": "text",
        "id": "GJBs_flRovLc"
      },
      "source": [
        "## 시작하기\n",
        "\n",
        "지금 읽고 계신 문서는 Colaboratory에 호스팅된 <a href=\"https://jupyter.org/\">Jupyter 노트</a>입니다. 정적인 페이지가 아닌, Python 등의 언어로 코드를 작성하고 실행할 수 있는 대화형 환경입니다.\n",
        "\n",
        "예를 들어 다음은 값을 계산하여 변수로 저장하고 결과를 출력하는 간단한 Python 스크립트가 포함된 <strong>코드 셀</strong>입니다."
      ]
    },
    {
      "cell_type": "code",
      "metadata": {
        "colab_type": "code",
        "id": "gJr_9dXGpJ05",
        "outputId": "5626194c-e802-4293-942d-2908885c3c1f",
        "colab": {
          "height": 35
        }
      },
      "source": [
        "seconds_in_a_day = 24 * 60 * 60\n",
        "seconds_in_a_day"
      ],
      "execution_count": 0,
      "outputs": [
        {
          "output_type": "execute_result",
          "data": {
            "text/plain": [
              "86400"
            ]
          },
          "metadata": {
            "tags": []
          },
          "execution_count": 0
        }
      ]
    },
    {
      "cell_type": "markdown",
      "metadata": {
        "colab_type": "text",
        "id": "2fhs6GZ4qFMx"
      },
      "source": [
        "위 셀의 코드를 실행하려면 셀을 클릭하여 선택한 후, 코드 왼쪽의 실행 버튼을 누르거나 단축키 'Command/Ctrl+Enter'를 사용합니다.\n",
        "\n",
        "모든 셀은 동일한 전역 상태를 수정하므로 셀을 실행하여 정의되는 변수는 다른 셀에서도 사용할 수 있습니다."
      ]
    },
    {
      "cell_type": "code",
      "metadata": {
        "colab_type": "code",
        "id": "-gE-Ez1qtyIA",
        "outputId": "8d2e4259-4682-4e19-b683-7b9087f28820",
        "colab": {
          "height": 35
        }
      },
      "source": [
        "seconds_in_a_week = 7 * seconds_in_a_day\n",
        "seconds_in_a_week"
      ],
      "execution_count": 0,
      "outputs": [
        {
          "output_type": "execute_result",
          "data": {
            "text/plain": [
              "604800"
            ]
          },
          "metadata": {
            "tags": []
          },
          "execution_count": 0
        }
      ]
    },
    {
      "cell_type": "markdown",
      "metadata": {
        "colab_type": "text",
        "id": "lSrWNr3MuFUS"
      },
      "source": [
        "Colaboratory 노트 사용 방법을 자세히 알아보려면 <a href=\"/notebooks/basic_features_overview.ipynb\">Colaboratory 개요</a>를 참조하세요.\n"
      ]
    },
    {
      "cell_type": "markdown",
      "metadata": {
        "colab_type": "text",
        "id": "-Rh3-Vt9Nev9"
      },
      "source": [
        "## 추가 리소스\n",
        "\n",
        "다음 리소스를 통해 Python, Jupyter, Colaboratory 및 관련 도구를 최대한 활용하는 방법을 알아보세요.\n",
        "\n",
        "### Colaboratory에서 노트로 작업하기\n",
        "- [Colaboratory 개요](/notebooks/basic_features_overview.ipynb)\n",
        "- [Markdown 가이드](/notebooks/markdown_guide.ipynb)\n",
        "- [라이브러리 가져오기 및 종속 항목 설치하기](/notebooks/snippets/importing_libraries.ipynb)\n",
        "- [GitHub에서 노트 저장 및 로드하기](https://colab.research.google.com/github/googlecolab/colabtools/blob/master/notebooks/colab-github-demo.ipynb)\n",
        "- [대화형 양식](/notebooks/forms.ipynb)\n",
        "- [대화형 위젯](/notebooks/widgets.ipynb)\n",
        "- <img src=\"/img/new.png\" height=\"20px\" align=\"left\" hspace=\"4px\" alt=\"New\"></img>\n",
        " [Colab의 TensorFlow 2](/notebooks/tensorflow_version.ipynb)\n",
        "\n",
        "### 데이터로 작업하기\n",
        "- [데이터 로드: 드라이브, 스프레드시트, Google Cloud Storage](/notebooks/io.ipynb) \n",
        "- [차트: 데이터 시각화하기](/notebooks/charts.ipynb)\n",
        "- [BigQuery 시작하기](/notebooks/bigquery.ipynb)\n",
        "\n",
        "### 머신러닝 단기집중과정\n",
        "다음은 Google 온라인 머신러닝 과정에서 가져온 일부 노트입니다. <a href=\"https://developers.google.com/machine-learning/crash-course/\">전체 과정 웹사이트</a>에서 자세한 내용을 확인하세요.\n",
        "- [Pandas 소개](/notebooks/mlcc/intro_to_pandas.ipynb)\n",
        "- [TensorFlow 개념](/notebooks/mlcc/tensorflow_programming_concepts.ipynb)\n",
        "- [TensorFlow 첫걸음](/notebooks/mlcc/first_steps_with_tensor_flow.ipynb)\n",
        "- [신경망 소개](/notebooks/mlcc/intro_to_neural_nets.ipynb)\n",
        "- [희소 데이터 및 임베딩 소개](/notebooks/mlcc/intro_to_sparse_data_and_embeddings.ipynb)\n",
        "\n",
        "### 가속 하드웨어 사용하기\n",
        "- [GPU를 사용한 TensorFlow](/notebooks/gpu.ipynb)\n",
        "- [TPU를 사용한 TensorFlow](/notebooks/tpu.ipynb)"
      ]
    },
    {
      "cell_type": "markdown",
      "metadata": {
        "colab_type": "text",
        "id": "P-H6Lw1vyNNd"
      },
      "source": [
        "## 머신러닝 예제: Seedbank\n",
        "\n",
        "Colaboratory 덕분에 가능해진 대화형 머신러닝 분석의 예시를 자세히 살펴보려면 <a href=\"https://research.google.com/seedbank/\">Seedbank</a> 프로젝트를 확인하세요.\n",
        "\n",
        "일부 추천 예시는 다음과 같습니다.\n",
        "\n",
        "- <a href=\"https://research.google.com/seedbank/seed/neural_style_transfer_with_tfkeras\">신경망 스타일 이전</a>: 딥 러닝을 사용하여 이미지 간에 스타일을 이전합니다.\n",
        "- <a href=\"https://research.google.com/seedbank/seed/ez_nsynth\">EZ NSynth</a>: WaveNet 자동 인코더로 오디오를 합성합니다.\n",
        "- <a href=\"https://research.google.com/seedbank/seed/fashion_mnist_with_keras_and_tpus\">Keras 및 TPU를 사용한 Fashion MNIST</a>: 딥 러닝으로 패션 관련 이미지를 분류합니다.\n",
        "- <a href=\"https://research.google.com/seedbank/seed/deepdream\">DeepDream</a>: 내 사진으로 DeepDream 이미지를 만듭니다.\n",
        "- <a href=\"https://research.google.com/seedbank/seed/convolutional_vae\">컨볼루션 VAE</a>: 손으로 쓴 숫자의 생성 모델을 만듭니다."
      ]
    },
    {
      "cell_type": "code",
      "metadata": {
        "id": "MIxxK2vOt0d0",
        "colab_type": "code",
        "colab": {
          "base_uri": "https://localhost:8080/",
          "height": 35
        },
        "outputId": "58c2de22-21b9-4ca6-89d1-d0c59da7a056"
      },
      "source": [
        "import getpass\n",
        "APIKEY = getpass.getpass()"
      ],
      "execution_count": 17,
      "outputs": [
        {
          "output_type": "stream",
          "text": [
            "··········\n"
          ],
          "name": "stdout"
        }
      ]
    },
    {
      "cell_type": "code",
      "metadata": {
        "id": "3F8EZtJEuCN0",
        "colab_type": "code",
        "colab": {
          "base_uri": "https://localhost:8080/",
          "height": 215
        },
        "outputId": "48109b53-f225-4de0-b994-3cff71a34e0e"
      },
      "source": [
        "!pip install --upgrade pip\n",
        "!pip install --upgrade google-api-python-client"
      ],
      "execution_count": 18,
      "outputs": [
        {
          "output_type": "stream",
          "text": [
            "Requirement already up-to-date: pip in /usr/local/lib/python3.6/dist-packages (19.3.1)\n",
            "Requirement already up-to-date: google-api-python-client in /usr/local/lib/python3.6/dist-packages (1.7.11)\n",
            "Requirement already satisfied, skipping upgrade: six<2dev,>=1.6.1 in /usr/local/lib/python3.6/dist-packages (from google-api-python-client) (1.12.0)\n",
            "Requirement already satisfied, skipping upgrade: google-auth>=1.4.1 in /usr/local/lib/python3.6/dist-packages (from google-api-python-client) (1.4.2)\n",
            "Requirement already satisfied, skipping upgrade: httplib2<1dev,>=0.9.2 in /usr/local/lib/python3.6/dist-packages (from google-api-python-client) (0.11.3)\n",
            "Requirement already satisfied, skipping upgrade: google-auth-httplib2>=0.0.3 in /usr/local/lib/python3.6/dist-packages (from google-api-python-client) (0.0.3)\n",
            "Requirement already satisfied, skipping upgrade: uritemplate<4dev,>=3.0.0 in /usr/local/lib/python3.6/dist-packages (from google-api-python-client) (3.0.0)\n",
            "Requirement already satisfied, skipping upgrade: rsa>=3.1.4 in /usr/local/lib/python3.6/dist-packages (from google-auth>=1.4.1->google-api-python-client) (4.0)\n",
            "Requirement already satisfied, skipping upgrade: pyasn1-modules>=0.2.1 in /usr/local/lib/python3.6/dist-packages (from google-auth>=1.4.1->google-api-python-client) (0.2.7)\n",
            "Requirement already satisfied, skipping upgrade: cachetools>=2.0.0 in /usr/local/lib/python3.6/dist-packages (from google-auth>=1.4.1->google-api-python-client) (3.1.1)\n",
            "Requirement already satisfied, skipping upgrade: pyasn1>=0.1.3 in /usr/local/lib/python3.6/dist-packages (from rsa>=3.1.4->google-auth>=1.4.1->google-api-python-client) (0.4.7)\n"
          ],
          "name": "stdout"
        }
      ]
    },
    {
      "cell_type": "code",
      "metadata": {
        "id": "J1nMaRmFuaAz",
        "colab_type": "code",
        "colab": {
          "base_uri": "https://localhost:8080/",
          "height": 215
        },
        "outputId": "d2b366c6-534c-4902-d7f9-b6bdbcd014f2"
      },
      "source": [
        "!wget \"https://upload.wikimedia.org/wikipedia/commons/6/66/An_up-close_picture_of_a_curious_male_domestic_shorthair_tabby_cat.jpg\" -O cat.jpg"
      ],
      "execution_count": 19,
      "outputs": [
        {
          "output_type": "stream",
          "text": [
            "--2019-11-15 01:43:16--  https://upload.wikimedia.org/wikipedia/commons/6/66/An_up-close_picture_of_a_curious_male_domestic_shorthair_tabby_cat.jpg\n",
            "Resolving upload.wikimedia.org (upload.wikimedia.org)... 208.80.154.240, 2620:0:861:ed1a::2:b\n",
            "Connecting to upload.wikimedia.org (upload.wikimedia.org)|208.80.154.240|:443... connected.\n",
            "HTTP request sent, awaiting response... 200 OK\n",
            "Length: 789779 (771K) [image/jpeg]\n",
            "Saving to: ‘cat.jpg’\n",
            "\n",
            "\rcat.jpg               0%[                    ]       0  --.-KB/s               \rcat.jpg             100%[===================>] 771.27K  4.20MB/s    in 0.2s    \n",
            "\n",
            "2019-11-15 01:43:17 (4.20 MB/s) - ‘cat.jpg’ saved [789779/789779]\n",
            "\n"
          ],
          "name": "stdout"
        }
      ]
    },
    {
      "cell_type": "code",
      "metadata": {
        "id": "6ItzOkkVuo8M",
        "colab_type": "code",
        "colab": {}
      },
      "source": [
        "from pydrive.auth import GoogleAuth\n",
        "from pydrive.drive import GoogleDrive\n",
        "from google.colab import auth\n",
        "from oauth2client.client import GoogleCredentials\n",
        "\n",
        "auth.authenticate_user()\n",
        "gauth = GoogleAuth()\n",
        "gauth.credentials = GoogleCredentials.get_application_default()\n",
        "drive = GoogleDrive(gauth)"
      ],
      "execution_count": 0,
      "outputs": []
    },
    {
      "cell_type": "code",
      "metadata": {
        "id": "bZ8EBAdYuxMO",
        "colab_type": "code",
        "colab": {}
      },
      "source": [
        "from googleapiclient.discovery import build\n",
        "gcs_service = build('storage', 'v1')"
      ],
      "execution_count": 0,
      "outputs": []
    },
    {
      "cell_type": "code",
      "metadata": {
        "id": "cTeDBXATxw3l",
        "colab_type": "code",
        "colab": {
          "base_uri": "https://localhost:8080/",
          "height": 1000
        },
        "outputId": "019c0afd-abd0-4d64-bcd2-d03297f3e87f"
      },
      "source": [
        "!pip install google-cloud-vision\n",
        "!pip install google-cloud\n",
        "!pip install google-cloud-videointelligence\n",
        "!gcloud init"
      ],
      "execution_count": 24,
      "outputs": [
        {
          "output_type": "stream",
          "text": [
            "Collecting google-cloud-vision\n",
            "\u001b[?25l  Downloading https://files.pythonhosted.org/packages/57/fd/c2ea7adfecf62a3020088ea6693ff5b3785245d0ee5a9bd032f983c79610/google_cloud_vision-0.40.0-py2.py3-none-any.whl (431kB)\n",
            "\r\u001b[K     |▊                               | 10kB 16.0MB/s eta 0:00:01\r\u001b[K     |█▌                              | 20kB 2.1MB/s eta 0:00:01\r\u001b[K     |██▎                             | 30kB 3.1MB/s eta 0:00:01\r\u001b[K     |███                             | 40kB 2.1MB/s eta 0:00:01\r\u001b[K     |███▉                            | 51kB 2.5MB/s eta 0:00:01\r\u001b[K     |████▋                           | 61kB 3.0MB/s eta 0:00:01\r\u001b[K     |█████▎                          | 71kB 3.5MB/s eta 0:00:01\r\u001b[K     |██████                          | 81kB 3.9MB/s eta 0:00:01\r\u001b[K     |██████▉                         | 92kB 4.4MB/s eta 0:00:01\r\u001b[K     |███████▋                        | 102kB 3.3MB/s eta 0:00:01\r\u001b[K     |████████▍                       | 112kB 3.3MB/s eta 0:00:01\r\u001b[K     |█████████▏                      | 122kB 3.3MB/s eta 0:00:01\r\u001b[K     |█████████▉                      | 133kB 3.3MB/s eta 0:00:01\r\u001b[K     |██████████▋                     | 143kB 3.3MB/s eta 0:00:01\r\u001b[K     |███████████▍                    | 153kB 3.3MB/s eta 0:00:01\r\u001b[K     |████████████▏                   | 163kB 3.3MB/s eta 0:00:01\r\u001b[K     |█████████████                   | 174kB 3.3MB/s eta 0:00:01\r\u001b[K     |█████████████▊                  | 184kB 3.3MB/s eta 0:00:01\r\u001b[K     |██████████████▍                 | 194kB 3.3MB/s eta 0:00:01\r\u001b[K     |███████████████▏                | 204kB 3.3MB/s eta 0:00:01\r\u001b[K     |████████████████                | 215kB 3.3MB/s eta 0:00:01\r\u001b[K     |████████████████▊               | 225kB 3.3MB/s eta 0:00:01\r\u001b[K     |█████████████████▌              | 235kB 3.3MB/s eta 0:00:01\r\u001b[K     |██████████████████▎             | 245kB 3.3MB/s eta 0:00:01\r\u001b[K     |███████████████████             | 256kB 3.3MB/s eta 0:00:01\r\u001b[K     |███████████████████▊            | 266kB 3.3MB/s eta 0:00:01\r\u001b[K     |████████████████████▌           | 276kB 3.3MB/s eta 0:00:01\r\u001b[K     |█████████████████████▎          | 286kB 3.3MB/s eta 0:00:01\r\u001b[K     |██████████████████████          | 296kB 3.3MB/s eta 0:00:01\r\u001b[K     |██████████████████████▉         | 307kB 3.3MB/s eta 0:00:01\r\u001b[K     |███████████████████████▌        | 317kB 3.3MB/s eta 0:00:01\r\u001b[K     |████████████████████████▎       | 327kB 3.3MB/s eta 0:00:01\r\u001b[K     |█████████████████████████       | 337kB 3.3MB/s eta 0:00:01\r\u001b[K     |█████████████████████████▉      | 348kB 3.3MB/s eta 0:00:01\r\u001b[K     |██████████████████████████▋     | 358kB 3.3MB/s eta 0:00:01\r\u001b[K     |███████████████████████████▍    | 368kB 3.3MB/s eta 0:00:01\r\u001b[K     |████████████████████████████▏   | 378kB 3.3MB/s eta 0:00:01\r\u001b[K     |████████████████████████████▉   | 389kB 3.3MB/s eta 0:00:01\r\u001b[K     |█████████████████████████████▋  | 399kB 3.3MB/s eta 0:00:01\r\u001b[K     |██████████████████████████████▍ | 409kB 3.3MB/s eta 0:00:01\r\u001b[K     |███████████████████████████████▏| 419kB 3.3MB/s eta 0:00:01\r\u001b[K     |████████████████████████████████| 430kB 3.3MB/s eta 0:00:01\r\u001b[K     |████████████████████████████████| 440kB 3.3MB/s \n",
            "\u001b[?25hRequirement already satisfied: google-api-core[grpc]<2.0.0dev,>=1.14.0 in /usr/local/lib/python3.6/dist-packages (from google-cloud-vision) (1.14.3)\n",
            "Requirement already satisfied: google-auth<2.0dev,>=0.4.0 in /usr/local/lib/python3.6/dist-packages (from google-api-core[grpc]<2.0.0dev,>=1.14.0->google-cloud-vision) (1.4.2)\n",
            "Requirement already satisfied: six>=1.10.0 in /usr/local/lib/python3.6/dist-packages (from google-api-core[grpc]<2.0.0dev,>=1.14.0->google-cloud-vision) (1.12.0)\n",
            "Requirement already satisfied: googleapis-common-protos<2.0dev,>=1.6.0 in /usr/local/lib/python3.6/dist-packages (from google-api-core[grpc]<2.0.0dev,>=1.14.0->google-cloud-vision) (1.6.0)\n",
            "Requirement already satisfied: protobuf>=3.4.0 in /usr/local/lib/python3.6/dist-packages (from google-api-core[grpc]<2.0.0dev,>=1.14.0->google-cloud-vision) (3.10.0)\n",
            "Requirement already satisfied: pytz in /usr/local/lib/python3.6/dist-packages (from google-api-core[grpc]<2.0.0dev,>=1.14.0->google-cloud-vision) (2018.9)\n",
            "Requirement already satisfied: requests<3.0.0dev,>=2.18.0 in /usr/local/lib/python3.6/dist-packages (from google-api-core[grpc]<2.0.0dev,>=1.14.0->google-cloud-vision) (2.21.0)\n",
            "Requirement already satisfied: setuptools>=34.0.0 in /usr/local/lib/python3.6/dist-packages (from google-api-core[grpc]<2.0.0dev,>=1.14.0->google-cloud-vision) (41.4.0)\n",
            "Requirement already satisfied: grpcio<2.0dev,>=1.8.2; extra == \"grpc\" in /usr/local/lib/python3.6/dist-packages (from google-api-core[grpc]<2.0.0dev,>=1.14.0->google-cloud-vision) (1.15.0)\n",
            "Requirement already satisfied: cachetools>=2.0.0 in /usr/local/lib/python3.6/dist-packages (from google-auth<2.0dev,>=0.4.0->google-api-core[grpc]<2.0.0dev,>=1.14.0->google-cloud-vision) (3.1.1)\n",
            "Requirement already satisfied: rsa>=3.1.4 in /usr/local/lib/python3.6/dist-packages (from google-auth<2.0dev,>=0.4.0->google-api-core[grpc]<2.0.0dev,>=1.14.0->google-cloud-vision) (4.0)\n",
            "Requirement already satisfied: pyasn1-modules>=0.2.1 in /usr/local/lib/python3.6/dist-packages (from google-auth<2.0dev,>=0.4.0->google-api-core[grpc]<2.0.0dev,>=1.14.0->google-cloud-vision) (0.2.7)\n",
            "Requirement already satisfied: urllib3<1.25,>=1.21.1 in /usr/local/lib/python3.6/dist-packages (from requests<3.0.0dev,>=2.18.0->google-api-core[grpc]<2.0.0dev,>=1.14.0->google-cloud-vision) (1.24.3)\n",
            "Requirement already satisfied: idna<2.9,>=2.5 in /usr/local/lib/python3.6/dist-packages (from requests<3.0.0dev,>=2.18.0->google-api-core[grpc]<2.0.0dev,>=1.14.0->google-cloud-vision) (2.8)\n",
            "Requirement already satisfied: chardet<3.1.0,>=3.0.2 in /usr/local/lib/python3.6/dist-packages (from requests<3.0.0dev,>=2.18.0->google-api-core[grpc]<2.0.0dev,>=1.14.0->google-cloud-vision) (3.0.4)\n",
            "Requirement already satisfied: certifi>=2017.4.17 in /usr/local/lib/python3.6/dist-packages (from requests<3.0.0dev,>=2.18.0->google-api-core[grpc]<2.0.0dev,>=1.14.0->google-cloud-vision) (2019.9.11)\n",
            "Requirement already satisfied: pyasn1>=0.1.3 in /usr/local/lib/python3.6/dist-packages (from rsa>=3.1.4->google-auth<2.0dev,>=0.4.0->google-api-core[grpc]<2.0.0dev,>=1.14.0->google-cloud-vision) (0.4.7)\n",
            "Installing collected packages: google-cloud-vision\n",
            "Successfully installed google-cloud-vision-0.40.0\n"
          ],
          "name": "stdout"
        },
        {
          "output_type": "display_data",
          "data": {
            "application/vnd.colab-display-data+json": {
              "pip_warning": {
                "packages": [
                  "google"
                ]
              }
            }
          },
          "metadata": {
            "tags": []
          }
        },
        {
          "output_type": "stream",
          "text": [
            "Collecting google-cloud\n",
            "  Downloading https://files.pythonhosted.org/packages/ba/b1/7c54d1950e7808df06642274e677dbcedba57f75307adf2e5ad8d39e5e0e/google_cloud-0.34.0-py2.py3-none-any.whl\n",
            "Installing collected packages: google-cloud\n",
            "Successfully installed google-cloud-0.34.0\n",
            "Collecting google-cloud-videointelligence\n",
            "\u001b[?25l  Downloading https://files.pythonhosted.org/packages/7c/57/4ed201f69917b9b6abf3a9919867cc492242bc4447f354dd653c395af661/google_cloud_videointelligence-1.12.0-py2.py3-none-any.whl (173kB)\n",
            "\u001b[K     |████████████████████████████████| 174kB 3.5MB/s \n",
            "\u001b[?25hRequirement already satisfied: google-api-core[grpc]<2.0.0dev,>=1.14.0 in /usr/local/lib/python3.6/dist-packages (from google-cloud-videointelligence) (1.14.3)\n",
            "Requirement already satisfied: google-auth<2.0dev,>=0.4.0 in /usr/local/lib/python3.6/dist-packages (from google-api-core[grpc]<2.0.0dev,>=1.14.0->google-cloud-videointelligence) (1.4.2)\n",
            "Requirement already satisfied: setuptools>=34.0.0 in /usr/local/lib/python3.6/dist-packages (from google-api-core[grpc]<2.0.0dev,>=1.14.0->google-cloud-videointelligence) (41.4.0)\n",
            "Requirement already satisfied: pytz in /usr/local/lib/python3.6/dist-packages (from google-api-core[grpc]<2.0.0dev,>=1.14.0->google-cloud-videointelligence) (2018.9)\n",
            "Requirement already satisfied: six>=1.10.0 in /usr/local/lib/python3.6/dist-packages (from google-api-core[grpc]<2.0.0dev,>=1.14.0->google-cloud-videointelligence) (1.12.0)\n",
            "Requirement already satisfied: googleapis-common-protos<2.0dev,>=1.6.0 in /usr/local/lib/python3.6/dist-packages (from google-api-core[grpc]<2.0.0dev,>=1.14.0->google-cloud-videointelligence) (1.6.0)\n",
            "Requirement already satisfied: requests<3.0.0dev,>=2.18.0 in /usr/local/lib/python3.6/dist-packages (from google-api-core[grpc]<2.0.0dev,>=1.14.0->google-cloud-videointelligence) (2.21.0)\n",
            "Requirement already satisfied: protobuf>=3.4.0 in /usr/local/lib/python3.6/dist-packages (from google-api-core[grpc]<2.0.0dev,>=1.14.0->google-cloud-videointelligence) (3.10.0)\n",
            "Requirement already satisfied: grpcio<2.0dev,>=1.8.2; extra == \"grpc\" in /usr/local/lib/python3.6/dist-packages (from google-api-core[grpc]<2.0.0dev,>=1.14.0->google-cloud-videointelligence) (1.15.0)\n",
            "Requirement already satisfied: pyasn1-modules>=0.2.1 in /usr/local/lib/python3.6/dist-packages (from google-auth<2.0dev,>=0.4.0->google-api-core[grpc]<2.0.0dev,>=1.14.0->google-cloud-videointelligence) (0.2.7)\n",
            "Requirement already satisfied: rsa>=3.1.4 in /usr/local/lib/python3.6/dist-packages (from google-auth<2.0dev,>=0.4.0->google-api-core[grpc]<2.0.0dev,>=1.14.0->google-cloud-videointelligence) (4.0)\n",
            "Requirement already satisfied: cachetools>=2.0.0 in /usr/local/lib/python3.6/dist-packages (from google-auth<2.0dev,>=0.4.0->google-api-core[grpc]<2.0.0dev,>=1.14.0->google-cloud-videointelligence) (3.1.1)\n",
            "Requirement already satisfied: idna<2.9,>=2.5 in /usr/local/lib/python3.6/dist-packages (from requests<3.0.0dev,>=2.18.0->google-api-core[grpc]<2.0.0dev,>=1.14.0->google-cloud-videointelligence) (2.8)\n",
            "Requirement already satisfied: chardet<3.1.0,>=3.0.2 in /usr/local/lib/python3.6/dist-packages (from requests<3.0.0dev,>=2.18.0->google-api-core[grpc]<2.0.0dev,>=1.14.0->google-cloud-videointelligence) (3.0.4)\n",
            "Requirement already satisfied: urllib3<1.25,>=1.21.1 in /usr/local/lib/python3.6/dist-packages (from requests<3.0.0dev,>=2.18.0->google-api-core[grpc]<2.0.0dev,>=1.14.0->google-cloud-videointelligence) (1.24.3)\n",
            "Requirement already satisfied: certifi>=2017.4.17 in /usr/local/lib/python3.6/dist-packages (from requests<3.0.0dev,>=2.18.0->google-api-core[grpc]<2.0.0dev,>=1.14.0->google-cloud-videointelligence) (2019.9.11)\n",
            "Requirement already satisfied: pyasn1<0.5.0,>=0.4.6 in /usr/local/lib/python3.6/dist-packages (from pyasn1-modules>=0.2.1->google-auth<2.0dev,>=0.4.0->google-api-core[grpc]<2.0.0dev,>=1.14.0->google-cloud-videointelligence) (0.4.7)\n",
            "Installing collected packages: google-cloud-videointelligence\n",
            "Successfully installed google-cloud-videointelligence-1.12.0\n"
          ],
          "name": "stdout"
        },
        {
          "output_type": "display_data",
          "data": {
            "application/vnd.colab-display-data+json": {
              "pip_warning": {
                "packages": [
                  "google"
                ]
              }
            }
          },
          "metadata": {
            "tags": []
          }
        },
        {
          "output_type": "stream",
          "text": [
            "Welcome! This command will take you through the configuration of gcloud.\n",
            "\n",
            "Settings from your current configuration [default] are:\n",
            "component_manager:\n",
            "  disable_update_check: 'True'\n",
            "core:\n",
            "  account: skyisdifferent@naver.com\n",
            "\n",
            "Pick configuration to use:\n",
            " [1] Re-initialize this configuration [default] with new settings \n",
            " [2] Create a new configuration\n",
            "Please enter your numeric choice:  1\n",
            "\n",
            "Your current configuration has been set to: [default]\n",
            "\n",
            "You can skip diagnostics next time by using the following flag:\n",
            "  gcloud init --skip-diagnostics\n",
            "\n",
            "Network diagnostic detects and fixes local network connection issues.\n",
            "Reachability Check passed.\n",
            "Network diagnostic passed (1/1 checks passed).\n",
            "\n",
            "Choose the account you would like to use to perform operations for \n",
            "this configuration:\n",
            " [1] skyisdifferent@naver.com\n",
            " [2] Log in with a new account\n",
            "Please enter your numeric choice:  1\n",
            "\n",
            "You are logged in as: [skyisdifferent@naver.com].\n",
            "\n",
            "Pick cloud project to use: \n",
            " [1] precise-antenna-259100\n",
            " [2] Create a new project\n",
            "Please enter numeric choice or text value (must exactly match list \n",
            "item):  1\n",
            "\n",
            "Your current project has been set to: [precise-antenna-259100].\n",
            "\n",
            "Not setting default zone/region (this feature makes it easier to use\n",
            "[gcloud compute] by setting an appropriate default value for the\n",
            "--zone and --region flag).\n",
            "See https://cloud.google.com/compute/docs/gcloud-compute section on how to set\n",
            "default compute region and zone manually. If you would like [gcloud init] to be\n",
            "able to do this for you the next time you run it, make sure the\n",
            "Compute Engine API is enabled for your project on the\n",
            "https://console.developers.google.com/apis page.\n",
            "\n",
            "Your Google Cloud SDK is configured and ready to use!\n",
            "\n",
            "* Commands that require authentication will use skyisdifferent@naver.com by default\n",
            "* Commands will reference project `precise-antenna-259100` by default\n",
            "Run `gcloud help config` to learn how to change individual settings\n",
            "\n",
            "This gcloud configuration is called [default]. You can create additional configurations if you work with multiple accounts and/or projects.\n",
            "Run `gcloud topic configurations` to learn more.\n",
            "\n",
            "Some things to try next:\n",
            "\n",
            "* Run `gcloud --help` to see the Cloud Platform services you can interact with. And run `gcloud help COMMAND` to get help on any gcloud command.\n",
            "* Run `gcloud topic --help` to learn about advanced features of the SDK like arg files and output formatting\n"
          ],
          "name": "stdout"
        }
      ]
    },
    {
      "cell_type": "code",
      "metadata": {
        "id": "R9k3QyahvhYc",
        "colab_type": "code",
        "colab": {}
      },
      "source": [
        "from googleapiclient.discovery import build\n",
        "gcs_service = build('storage', 'v1')"
      ],
      "execution_count": 0,
      "outputs": []
    },
    {
      "cell_type": "code",
      "metadata": {
        "id": "6xyR-DY8u1Xx",
        "colab_type": "code",
        "colab": {
          "base_uri": "https://localhost:8080/",
          "height": 35
        },
        "outputId": "7ed0b2a6-fe32-4cd3-e5c2-b5d7924c081d"
      },
      "source": [
        "project_id = 'precise-antenna-259100'\n",
        "\n",
        "# Use a different globally-unique bucket name from the gsutil example above.\n",
        "import uuid\n",
        "bucket_name = 'colab-sample-bucket-' + str(uuid.uuid1())\n",
        "\n",
        "body = {\n",
        "  'name': bucket_name,\n",
        "  # For a full list of locations, see:\n",
        "  # https://cloud.google.com/storage/docs/bucket-locations\n",
        "  'location': 'us',\n",
        "}\n",
        "gcs_service.buckets().insert(project=project_id, body=body).execute()\n",
        "print('Done')"
      ],
      "execution_count": 26,
      "outputs": [
        {
          "output_type": "stream",
          "text": [
            "Done\n"
          ],
          "name": "stdout"
        }
      ]
    },
    {
      "cell_type": "code",
      "metadata": {
        "id": "C2_ouSs1veFO",
        "colab_type": "code",
        "colab": {
          "base_uri": "https://localhost:8080/",
          "height": 91
        },
        "outputId": "233f8edd-0da4-4c33-8666-a51692c51a07"
      },
      "source": [
        "import base64\n",
        "vservice = build('vision', 'v1', developerKey=APIKEY)\n",
        "request = vservice.images().annotate(body={\n",
        "        'requests': [{\n",
        "                'image': {\n",
        "                    'source': {\n",
        "                        'gcs_image_uri': \"gs://colab-sample-bucket-f57f1d0c-f477-11e9-b09d-0242ac1c0002/test.jpg\"\n",
        "                    }\n",
        "                },\n",
        "                'features': [{\n",
        "                    'type': 'TEXT_DETECTION',\n",
        "                    'maxResults': 3,\n",
        "                }]\n",
        "            }],\n",
        "        })\n",
        "responses = request.execute(num_retries=3)\n",
        "print (responses)\n",
        "\n",
        "print(responses['responses'][0]['textAnnotations'][0]['description'])"
      ],
      "execution_count": 27,
      "outputs": [
        {
          "output_type": "stream",
          "text": [
            "{'responses': [{'textAnnotations': [{'locale': 'ko', 'description': '행복한 하루 되세요!\\n', 'boundingPoly': {'vertices': [{'x': 37, 'y': 367}, {'x': 559, 'y': 367}, {'x': 559, 'y': 438}, {'x': 37, 'y': 438}]}}, {'description': '행복한', 'boundingPoly': {'vertices': [{'x': 38, 'y': 367}, {'x': 206, 'y': 369}, {'x': 205, 'y': 432}, {'x': 37, 'y': 430}]}}, {'description': '하루', 'boundingPoly': {'vertices': [{'x': 233, 'y': 371}, {'x': 340, 'y': 372}, {'x': 339, 'y': 429}, {'x': 232, 'y': 428}]}}, {'description': '되세요', 'boundingPoly': {'vertices': [{'x': 369, 'y': 370}, {'x': 534, 'y': 371}, {'x': 533, 'y': 438}, {'x': 368, 'y': 437}]}}, {'description': '!', 'boundingPoly': {'vertices': [{'x': 545, 'y': 377}, {'x': 559, 'y': 377}, {'x': 559, 'y': 427}, {'x': 545, 'y': 427}]}}], 'fullTextAnnotation': {'pages': [{'property': {'detectedLanguages': [{'languageCode': 'ko', 'confidence': 1}]}, 'width': 600, 'height': 600, 'blocks': [{'property': {'detectedLanguages': [{'languageCode': 'ko', 'confidence': 1}]}, 'boundingBox': {'vertices': [{'x': 38, 'y': 367}, {'x': 559, 'y': 372}, {'x': 558, 'y': 439}, {'x': 37, 'y': 434}]}, 'paragraphs': [{'property': {'detectedLanguages': [{'languageCode': 'ko', 'confidence': 1}]}, 'boundingBox': {'vertices': [{'x': 38, 'y': 367}, {'x': 559, 'y': 372}, {'x': 558, 'y': 439}, {'x': 37, 'y': 434}]}, 'words': [{'property': {'detectedLanguages': [{'languageCode': 'ko'}]}, 'boundingBox': {'vertices': [{'x': 38, 'y': 367}, {'x': 206, 'y': 369}, {'x': 205, 'y': 432}, {'x': 37, 'y': 430}]}, 'symbols': [{'property': {'detectedLanguages': [{'languageCode': 'ko'}]}, 'boundingBox': {'vertices': [{'x': 38, 'y': 367}, {'x': 88, 'y': 367}, {'x': 87, 'y': 428}, {'x': 37, 'y': 428}]}, 'text': '행'}, {'property': {'detectedLanguages': [{'languageCode': 'ko'}]}, 'boundingBox': {'vertices': [{'x': 98, 'y': 368}, {'x': 144, 'y': 368}, {'x': 143, 'y': 431}, {'x': 97, 'y': 431}]}, 'text': '복'}, {'property': {'detectedLanguages': [{'languageCode': 'ko'}], 'detectedBreak': {'type': 'SPACE'}}, 'boundingBox': {'vertices': [{'x': 154, 'y': 368}, {'x': 206, 'y': 368}, {'x': 205, 'y': 427}, {'x': 153, 'y': 427}]}, 'text': '한'}]}, {'property': {'detectedLanguages': [{'languageCode': 'ko'}]}, 'boundingBox': {'vertices': [{'x': 233, 'y': 371}, {'x': 340, 'y': 372}, {'x': 339, 'y': 429}, {'x': 232, 'y': 428}]}, 'symbols': [{'property': {'detectedLanguages': [{'languageCode': 'ko'}]}, 'boundingBox': {'vertices': [{'x': 233, 'y': 372}, {'x': 299, 'y': 373}, {'x': 298, 'y': 429}, {'x': 232, 'y': 428}]}, 'text': '하'}, {'property': {'detectedLanguages': [{'languageCode': 'ko'}], 'detectedBreak': {'type': 'SPACE'}}, 'boundingBox': {'vertices': [{'x': 300, 'y': 372}, {'x': 340, 'y': 372}, {'x': 339, 'y': 428}, {'x': 299, 'y': 428}]}, 'text': '루'}]}, {'property': {'detectedLanguages': [{'languageCode': 'ko'}]}, 'boundingBox': {'vertices': [{'x': 369, 'y': 370}, {'x': 534, 'y': 371}, {'x': 533, 'y': 438}, {'x': 368, 'y': 437}]}, 'symbols': [{'property': {'detectedLanguages': [{'languageCode': 'ko'}]}, 'boundingBox': {'vertices': [{'x': 369, 'y': 370}, {'x': 422, 'y': 370}, {'x': 421, 'y': 436}, {'x': 368, 'y': 436}]}, 'text': '되'}, {'property': {'detectedLanguages': [{'languageCode': 'ko'}]}, 'boundingBox': {'vertices': [{'x': 423, 'y': 371}, {'x': 500, 'y': 372}, {'x': 499, 'y': 438}, {'x': 422, 'y': 437}]}, 'text': '세'}, {'property': {'detectedLanguages': [{'languageCode': 'ko'}]}, 'boundingBox': {'vertices': [{'x': 501, 'y': 371}, {'x': 534, 'y': 371}, {'x': 533, 'y': 437}, {'x': 500, 'y': 437}]}, 'text': '요'}]}, {'property': {'detectedLanguages': [{'languageCode': 'ko'}]}, 'boundingBox': {'vertices': [{'x': 545, 'y': 377}, {'x': 559, 'y': 377}, {'x': 559, 'y': 427}, {'x': 545, 'y': 427}]}, 'symbols': [{'property': {'detectedLanguages': [{'languageCode': 'ko'}], 'detectedBreak': {'type': 'EOL_SURE_SPACE'}}, 'boundingBox': {'vertices': [{'x': 545, 'y': 377}, {'x': 559, 'y': 377}, {'x': 559, 'y': 427}, {'x': 545, 'y': 427}]}, 'text': '!'}]}]}], 'blockType': 'TEXT'}]}], 'text': '행복한 하루 되세요!\\n'}}]}\n",
            "행복한 하루 되세요!\n",
            "\n"
          ],
          "name": "stdout"
        }
      ]
    },
    {
      "cell_type": "code",
      "metadata": {
        "id": "B6TdLhfNyXzo",
        "colab_type": "code",
        "colab": {}
      },
      "source": [
        "def detect_text_uri(uri):\n",
        "    \"\"\"Detects text in the file located in Google Cloud Storage or on the Web.\n",
        "    \"\"\"\n",
        "    from google.cloud import vision\n",
        "    client = vision.ImageAnnotatorClient()\n",
        "    image = vision.types.Image()\n",
        "    image.source.image_uri = uri\n",
        "\n",
        "    response = client.text_detection(image=image)\n",
        "    texts = response.text_annotations\n",
        "    print('Texts:')\n",
        "\n",
        "    for text in texts:\n",
        "        print('\\n\"{}\"'.format(text.description))\n",
        "\n",
        "        vertices = (['({},{})'.format(vertex.x, vertex.y)\n",
        "                    for vertex in text.bounding_poly.vertices])\n",
        "\n",
        "        print('bounds: {}'.format(','.join(vertices)))"
      ],
      "execution_count": 0,
      "outputs": []
    },
    {
      "cell_type": "code",
      "metadata": {
        "id": "WpEB3D5f2m0W",
        "colab_type": "code",
        "colab": {}
      },
      "source": [
        "import os\n",
        "\n",
        "#How to create a key\n",
        "# https://cloud.google.com/docs/authentication/getting-started\n",
        "os.environ[\"GOOGLE_APPLICATION_CREDENTIALS\"] = \"/content/My First Project-3bff2f26f8fe.json\""
      ],
      "execution_count": 0,
      "outputs": []
    },
    {
      "cell_type": "code",
      "metadata": {
        "id": "cfbKDayH3H9-",
        "colab_type": "code",
        "colab": {}
      },
      "source": [
        "def detect_text_uri(uri):\n",
        "    \"\"\"Detects text in the file located in Google Cloud Storage or on the Web.\n",
        "    \"\"\"\n",
        "    from google.cloud import vision\n",
        "    client = vision.ImageAnnotatorClient()\n",
        "    image = vision.types.Image()\n",
        "    image.source.image_uri = uri\n",
        "\n",
        "    response = client.text_detection(image=image)\n",
        "    texts = response.text_annotations\n",
        "    print('Texts:')\n",
        "\n",
        "    for text in texts:\n",
        "        print('\\n\"{}\"'.format(text.description))\n",
        "\n",
        "        vertices = (['({},{})'.format(vertex.x, vertex.y)\n",
        "                    for vertex in text.bounding_poly.vertices])\n",
        "\n",
        "        print('bounds: {}'.format(','.join(vertices)))"
      ],
      "execution_count": 0,
      "outputs": []
    },
    {
      "cell_type": "code",
      "metadata": {
        "id": "pxAvxmT48SW_",
        "colab_type": "code",
        "colab": {
          "base_uri": "https://localhost:8080/",
          "height": 1000
        },
        "outputId": "6a6075c3-9483-494b-b42e-08a8cfbbb283"
      },
      "source": [
        "detect_text_uri(\"gs://colab-sample-bucket-8fd4e996-074b-11ea-83db-0242ac1c0002/hi.jpg\")"
      ],
      "execution_count": 36,
      "outputs": [
        {
          "output_type": "stream",
          "text": [
            "Texts:\n",
            "\n",
            "\"locale: \"ko\"\n",
            "description: \"(\\353\\214\\200\\352\\265\\255\\353\\257\\274\\n\\355\\206\\240\\355\\201\\254\\354\\207\\274,\\n\\355\\225\\234\\353\\213\\271\\355\\225\\230\\354\\213\\234\\354\\232\\224\\n\\340\\260\\270\\340\\261\\215\\340\\260\\245\\340\\260\\276\\340\\260\\260\\n\"\n",
            "bounding_poly {\n",
            "  vertices {\n",
            "    x: 67\n",
            "    y: 122\n",
            "  }\n",
            "  vertices {\n",
            "    x: 346\n",
            "    y: 122\n",
            "  }\n",
            "  vertices {\n",
            "    x: 346\n",
            "    y: 273\n",
            "  }\n",
            "  vertices {\n",
            "    x: 67\n",
            "    y: 273\n",
            "  }\n",
            "}\n",
            "\"\n",
            "Text: (대국민\n",
            "토크쇼,\n",
            "한당하시요\n",
            "స్థార\n",
            "\n",
            "Translation: (People talk show, let&#39;s go స్థార\n",
            "Detected source language: ko\n",
            "\n",
            "\"description: \"(\"\n",
            "bounding_poly {\n",
            "  vertices {\n",
            "    x: 139\n",
            "    y: 122\n",
            "  }\n",
            "  vertices {\n",
            "    x: 154\n",
            "    y: 122\n",
            "  }\n",
            "  vertices {\n",
            "    x: 154\n",
            "    y: 140\n",
            "  }\n",
            "  vertices {\n",
            "    x: 139\n",
            "    y: 140\n",
            "  }\n",
            "}\n",
            "\"\n",
            "Text: (\n",
            "Translation: (\n",
            "Detected source language: en\n",
            "\n",
            "\"description: \"\\353\\214\\200\\352\\265\\255\\353\\257\\274\"\n",
            "bounding_poly {\n",
            "  vertices {\n",
            "    x: 159\n",
            "    y: 123\n",
            "  }\n",
            "  vertices {\n",
            "    x: 191\n",
            "    y: 123\n",
            "  }\n",
            "  vertices {\n",
            "    x: 191\n",
            "    y: 141\n",
            "  }\n",
            "  vertices {\n",
            "    x: 159\n",
            "    y: 141\n",
            "  }\n",
            "}\n",
            "\"\n",
            "Text: 대국민\n",
            "Translation: Public\n",
            "Detected source language: ko\n",
            "\n",
            "\"description: \"\\355\\206\\240\\355\\201\\254\\354\\207\\274\"\n",
            "bounding_poly {\n",
            "  vertices {\n",
            "    x: 154\n",
            "    y: 139\n",
            "  }\n",
            "  vertices {\n",
            "    x: 187\n",
            "    y: 140\n",
            "  }\n",
            "  vertices {\n",
            "    x: 186\n",
            "    y: 157\n",
            "  }\n",
            "  vertices {\n",
            "    x: 153\n",
            "    y: 156\n",
            "  }\n",
            "}\n",
            "\"\n",
            "Text: 토크쇼\n",
            "Translation: Talk show\n",
            "Detected source language: ko\n",
            "\n",
            "\"description: \",\"\n",
            "bounding_poly {\n",
            "  vertices {\n",
            "    x: 189\n",
            "    y: 140\n",
            "  }\n",
            "  vertices {\n",
            "    x: 190\n",
            "    y: 140\n",
            "  }\n",
            "  vertices {\n",
            "    x: 189\n",
            "    y: 157\n",
            "  }\n",
            "  vertices {\n",
            "    x: 188\n",
            "    y: 157\n",
            "  }\n",
            "}\n",
            "\"\n",
            "Text: ,\n",
            "Translation: ,\n",
            "Detected source language: en\n",
            "\n",
            "\"description: \"\\355\\225\\234\\353\\213\\271\"\n",
            "bounding_poly {\n",
            "  vertices {\n",
            "    x: 74\n",
            "    y: 139\n",
            "  }\n",
            "  vertices {\n",
            "    x: 207\n",
            "    y: 147\n",
            "  }\n",
            "  vertices {\n",
            "    x: 200\n",
            "    y: 265\n",
            "  }\n",
            "  vertices {\n",
            "    x: 67\n",
            "    y: 257\n",
            "  }\n",
            "}\n",
            "\"\n",
            "Text: 한당\n",
            "Translation: Per party\n",
            "Detected source language: ko\n",
            "\n",
            "\"description: \"\\355\\225\\230\\354\\213\\234\\354\\232\\224\"\n",
            "bounding_poly {\n",
            "  vertices {\n",
            "    x: 209\n",
            "    y: 147\n",
            "  }\n",
            "  vertices {\n",
            "    x: 346\n",
            "    y: 155\n",
            "  }\n",
            "  vertices {\n",
            "    x: 339\n",
            "    y: 273\n",
            "  }\n",
            "  vertices {\n",
            "    x: 202\n",
            "    y: 265\n",
            "  }\n",
            "}\n",
            "\"\n",
            "Text: 하시요\n",
            "Translation: Do\n",
            "Detected source language: ko\n",
            "\n",
            "\"description: \"\\340\\260\\270\\340\\261\\215\\340\\260\\245\\340\\260\\276\\340\\260\\260\"\n",
            "bounding_poly {\n",
            "  vertices {\n",
            "    x: 160\n",
            "    y: 169\n",
            "  }\n",
            "  vertices {\n",
            "    x: 333\n",
            "    y: 161\n",
            "  }\n",
            "  vertices {\n",
            "    x: 337\n",
            "    y: 245\n",
            "  }\n",
            "  vertices {\n",
            "    x: 164\n",
            "    y: 253\n",
            "  }\n",
            "}\n",
            "\"\n",
            "Text: స్థార\n",
            "Translation: Stara\n",
            "Detected source language: te\n"
          ],
          "name": "stdout"
        }
      ]
    },
    {
      "cell_type": "code",
      "metadata": {
        "id": "JPw3ooed4Zhk",
        "colab_type": "code",
        "colab": {}
      },
      "source": [
        "from googleapiclient.http import MediaFileUpload\n",
        "media = MediaFileUpload('test.jpg',mimetype='image/jpeg',resumable=True)\n",
        "request = gcs_service."
      ],
      "execution_count": 0,
      "outputs": []
    },
    {
      "cell_type": "code",
      "metadata": {
        "id": "LFrv_7aD-u1X",
        "colab_type": "code",
        "colab": {
          "base_uri": "https://localhost:8080/",
          "height": 1000
        },
        "outputId": "86c18da3-3aef-45c3-d2a9-6c0971eea593"
      },
      "source": [
        "import six\n",
        "\n",
        "def detect_text_uri(uri):\n",
        "    \"\"\"Detects text in the file located in Google Cloud Storage or on the Web.\n",
        "    \"\"\"\n",
        "    from google.cloud import vision\n",
        "    client = vision.ImageAnnotatorClient()\n",
        "    image = vision.types.Image()\n",
        "    image.source.image_uri = uri\n",
        "\n",
        "    response = client.text_detection(image=image)\n",
        "    texts = response.text_annotations\n",
        "    print('Texts:')\n",
        "\n",
        "    for text in texts:\n",
        "        print('\\n\"{}\"'.format(text))\n",
        "\n",
        "        from google.cloud import translate_v2 as translate\n",
        "        translate_client = translate.Client()\n",
        "\n",
        "        if isinstance(text.description, six.binary_type):\n",
        "            text.description = text.description.decode('utf-8')\n",
        "\n",
        "        # Text can also be a sequence of strings, in which case this method\n",
        "        # will return a sequence of results for each text.\n",
        "        result = translate_client.translate(\n",
        "            text.description, target_language='en')\n",
        "\n",
        "        print(u'Text: {}'.format(result['input']))\n",
        "        print(u'Translation: {}'.format(result['translatedText']))\n",
        "        print(u'Detected source language: {}'.format(\n",
        "            result['detectedSourceLanguage']))\n",
        "\n",
        "detect_text_uri(\"gs://colab-sample-bucket-8fd4e996-074b-11ea-83db-0242ac1c0002/hi.jpg\")"
      ],
      "execution_count": 35,
      "outputs": [
        {
          "output_type": "stream",
          "text": [
            "Texts:\n",
            "\n",
            "\"locale: \"ko\"\n",
            "description: \"(\\353\\214\\200\\352\\265\\255\\353\\257\\274\\n\\355\\206\\240\\355\\201\\254\\354\\207\\274,\\n\\355\\225\\234\\353\\213\\271\\355\\225\\230\\354\\213\\234\\354\\232\\224\\n\\340\\260\\270\\340\\261\\215\\340\\260\\245\\340\\260\\276\\340\\260\\260\\n\"\n",
            "bounding_poly {\n",
            "  vertices {\n",
            "    x: 67\n",
            "    y: 122\n",
            "  }\n",
            "  vertices {\n",
            "    x: 346\n",
            "    y: 122\n",
            "  }\n",
            "  vertices {\n",
            "    x: 346\n",
            "    y: 273\n",
            "  }\n",
            "  vertices {\n",
            "    x: 67\n",
            "    y: 273\n",
            "  }\n",
            "}\n",
            "\"\n",
            "Text: (대국민\n",
            "토크쇼,\n",
            "한당하시요\n",
            "స్థార\n",
            "\n",
            "Translation: (People talk show, let&#39;s go స్థార\n",
            "Detected source language: ko\n",
            "\n",
            "\"description: \"(\"\n",
            "bounding_poly {\n",
            "  vertices {\n",
            "    x: 139\n",
            "    y: 122\n",
            "  }\n",
            "  vertices {\n",
            "    x: 154\n",
            "    y: 122\n",
            "  }\n",
            "  vertices {\n",
            "    x: 154\n",
            "    y: 140\n",
            "  }\n",
            "  vertices {\n",
            "    x: 139\n",
            "    y: 140\n",
            "  }\n",
            "}\n",
            "\"\n",
            "Text: (\n",
            "Translation: (\n",
            "Detected source language: en\n",
            "\n",
            "\"description: \"\\353\\214\\200\\352\\265\\255\\353\\257\\274\"\n",
            "bounding_poly {\n",
            "  vertices {\n",
            "    x: 159\n",
            "    y: 123\n",
            "  }\n",
            "  vertices {\n",
            "    x: 191\n",
            "    y: 123\n",
            "  }\n",
            "  vertices {\n",
            "    x: 191\n",
            "    y: 141\n",
            "  }\n",
            "  vertices {\n",
            "    x: 159\n",
            "    y: 141\n",
            "  }\n",
            "}\n",
            "\"\n",
            "Text: 대국민\n",
            "Translation: Public\n",
            "Detected source language: ko\n",
            "\n",
            "\"description: \"\\355\\206\\240\\355\\201\\254\\354\\207\\274\"\n",
            "bounding_poly {\n",
            "  vertices {\n",
            "    x: 154\n",
            "    y: 139\n",
            "  }\n",
            "  vertices {\n",
            "    x: 187\n",
            "    y: 140\n",
            "  }\n",
            "  vertices {\n",
            "    x: 186\n",
            "    y: 157\n",
            "  }\n",
            "  vertices {\n",
            "    x: 153\n",
            "    y: 156\n",
            "  }\n",
            "}\n",
            "\"\n",
            "Text: 토크쇼\n",
            "Translation: Talk show\n",
            "Detected source language: ko\n",
            "\n",
            "\"description: \",\"\n",
            "bounding_poly {\n",
            "  vertices {\n",
            "    x: 189\n",
            "    y: 140\n",
            "  }\n",
            "  vertices {\n",
            "    x: 190\n",
            "    y: 140\n",
            "  }\n",
            "  vertices {\n",
            "    x: 189\n",
            "    y: 157\n",
            "  }\n",
            "  vertices {\n",
            "    x: 188\n",
            "    y: 157\n",
            "  }\n",
            "}\n",
            "\"\n",
            "Text: ,\n",
            "Translation: ,\n",
            "Detected source language: en\n",
            "\n",
            "\"description: \"\\355\\225\\234\\353\\213\\271\"\n",
            "bounding_poly {\n",
            "  vertices {\n",
            "    x: 74\n",
            "    y: 139\n",
            "  }\n",
            "  vertices {\n",
            "    x: 207\n",
            "    y: 147\n",
            "  }\n",
            "  vertices {\n",
            "    x: 200\n",
            "    y: 265\n",
            "  }\n",
            "  vertices {\n",
            "    x: 67\n",
            "    y: 257\n",
            "  }\n",
            "}\n",
            "\"\n",
            "Text: 한당\n",
            "Translation: Per party\n",
            "Detected source language: ko\n",
            "\n",
            "\"description: \"\\355\\225\\230\\354\\213\\234\\354\\232\\224\"\n",
            "bounding_poly {\n",
            "  vertices {\n",
            "    x: 209\n",
            "    y: 147\n",
            "  }\n",
            "  vertices {\n",
            "    x: 346\n",
            "    y: 155\n",
            "  }\n",
            "  vertices {\n",
            "    x: 339\n",
            "    y: 273\n",
            "  }\n",
            "  vertices {\n",
            "    x: 202\n",
            "    y: 265\n",
            "  }\n",
            "}\n",
            "\"\n",
            "Text: 하시요\n",
            "Translation: Do\n",
            "Detected source language: ko\n",
            "\n",
            "\"description: \"\\340\\260\\270\\340\\261\\215\\340\\260\\245\\340\\260\\276\\340\\260\\260\"\n",
            "bounding_poly {\n",
            "  vertices {\n",
            "    x: 160\n",
            "    y: 169\n",
            "  }\n",
            "  vertices {\n",
            "    x: 333\n",
            "    y: 161\n",
            "  }\n",
            "  vertices {\n",
            "    x: 337\n",
            "    y: 245\n",
            "  }\n",
            "  vertices {\n",
            "    x: 164\n",
            "    y: 253\n",
            "  }\n",
            "}\n",
            "\"\n",
            "Text: స్థార\n",
            "Translation: Stara\n",
            "Detected source language: te\n"
          ],
          "name": "stdout"
        }
      ]
    },
    {
      "cell_type": "code",
      "metadata": {
        "id": "qOBJvxcX-7kQ",
        "colab_type": "code",
        "colab": {
          "base_uri": "https://localhost:8080/",
          "height": 154
        },
        "outputId": "0d8841fb-1f68-444f-c191-f2df87f35ab7"
      },
      "source": [
        "def localize_objects(path):\n",
        "    \"\"\"Localize objects in the local image.\n",
        "\n",
        "    Args:\n",
        "    path: The path to the local file.\n",
        "    \"\"\n",
        "    from google.cloud import vision\n",
        "    client = vision.ImageAnnotatorClient()\n",
        "\n",
        "    with open(path, 'rb') as image_file:\n",
        "        content = image_file.read()\n",
        "    image = vision.types.Image(content=content)\n",
        "\n",
        "    objects = client.object_localization(\n",
        "        image=image).localized_object_annotations\n",
        "\n",
        "    print('Number of objects found: {}'.format(len(objects)))\n",
        "    for object_ in objects:\n",
        "        print('\\n{} (confidence: {})'.format(object_.name, object_.score))\n",
        "        print('Normalized bounding polygon vertices: ')\n",
        "        for vertex in object_.bounding_poly.normalized_vertices:\n",
        "            print(' - ({}, {})'.format(vertex.x, vertex.y))"
      ],
      "execution_count": 39,
      "outputs": [
        {
          "output_type": "error",
          "ename": "SyntaxError",
          "evalue": "ignored",
          "traceback": [
            "\u001b[0;36m  File \u001b[0;32m\"<ipython-input-39-240b8dc052fe>\"\u001b[0;36m, line \u001b[0;32m22\u001b[0m\n\u001b[0;31m    print(' - ({}, {})'.format(vertex.x, vertex.y))\u001b[0m\n\u001b[0m                                                   \n^\u001b[0m\n\u001b[0;31mSyntaxError\u001b[0m\u001b[0;31m:\u001b[0m EOF while scanning triple-quoted string literal\n"
          ]
        }
      ]
    },
    {
      "cell_type": "code",
      "metadata": {
        "id": "kq55thr8S5PP",
        "colab_type": "code",
        "colab": {}
      },
      "source": [
        "def localize_objects_uri(uri):\n",
        "    \"\"\"Localize objects in the image on Google Cloud Storage\n",
        "\n",
        "    Args:\n",
        "    uri: The path to the file in Google Cloud Storage (gs://...)\n",
        "    \"\"\"\n",
        "    from google.cloud import vision\n",
        "    client = vision.ImageAnnotatorClient()\n",
        "\n",
        "    image = vision.types.Image()\n",
        "    image.source.image_uri = uri\n",
        "\n",
        "    objects = client.object_localization(\n",
        "        image=image).localized_object_annotations\n",
        "\n",
        "    print('Number of objects found: {}'.format(len(objects)))\n",
        "    for object_ in objects:\n",
        "        print('\\n{} (confidence: {})'.format(object_.name, object_.score))\n",
        "        print('Normalized bounding polygon vertices: ')\n",
        "        for vertex in object_.bounding_poly.normalized_vertices:\n",
        "            print(' - ({}, {})'.format(vertex.x, vertex.y))"
      ],
      "execution_count": 0,
      "outputs": []
    },
    {
      "cell_type": "code",
      "metadata": {
        "id": "uE741TqVT_Ph",
        "colab_type": "code",
        "colab": {
          "base_uri": "https://localhost:8080/",
          "height": 244
        },
        "outputId": "72f18623-4d61-4b8f-c901-46ae0874bd45"
      },
      "source": [
        "import cv2\n",
        "from google.colab.patches import cv2_imshow\n",
        "\n",
        "#Create a video capture object to read videos\n",
        "image = cv2.imread(video_path)\n",
        "w = image.shape[0]\n",
        "h = image.shape[1]\n",
        "\n",
        "p1 = (vtx.x * w, vtx.y * h)\n",
        "p2 = (580, 400)\n",
        "cv2.rectangle(image, p1, p2, (255, 0, 0), 2, 1)\n",
        "cv2_imshow(image)"
      ],
      "execution_count": 38,
      "outputs": [
        {
          "output_type": "error",
          "ename": "NameError",
          "evalue": "ignored",
          "traceback": [
            "\u001b[0;31m---------------------------------------------------------------------------\u001b[0m",
            "\u001b[0;31mNameError\u001b[0m                                 Traceback (most recent call last)",
            "\u001b[0;32m<ipython-input-38-999bc266bb72>\u001b[0m in \u001b[0;36m<module>\u001b[0;34m()\u001b[0m\n\u001b[1;32m      3\u001b[0m \u001b[0;34m\u001b[0m\u001b[0m\n\u001b[1;32m      4\u001b[0m \u001b[0;31m#Create a video capture object to read videos\u001b[0m\u001b[0;34m\u001b[0m\u001b[0;34m\u001b[0m\u001b[0;34m\u001b[0m\u001b[0m\n\u001b[0;32m----> 5\u001b[0;31m \u001b[0mimage\u001b[0m \u001b[0;34m=\u001b[0m \u001b[0mcv2\u001b[0m\u001b[0;34m.\u001b[0m\u001b[0mimread\u001b[0m\u001b[0;34m(\u001b[0m\u001b[0mvideo_path\u001b[0m\u001b[0;34m)\u001b[0m\u001b[0;34m\u001b[0m\u001b[0;34m\u001b[0m\u001b[0m\n\u001b[0m\u001b[1;32m      6\u001b[0m \u001b[0mw\u001b[0m \u001b[0;34m=\u001b[0m \u001b[0mimage\u001b[0m\u001b[0;34m.\u001b[0m\u001b[0mshape\u001b[0m\u001b[0;34m[\u001b[0m\u001b[0;36m0\u001b[0m\u001b[0;34m]\u001b[0m\u001b[0;34m\u001b[0m\u001b[0;34m\u001b[0m\u001b[0m\n\u001b[1;32m      7\u001b[0m \u001b[0mh\u001b[0m \u001b[0;34m=\u001b[0m \u001b[0mimage\u001b[0m\u001b[0;34m.\u001b[0m\u001b[0mshape\u001b[0m\u001b[0;34m[\u001b[0m\u001b[0;36m1\u001b[0m\u001b[0;34m]\u001b[0m\u001b[0;34m\u001b[0m\u001b[0;34m\u001b[0m\u001b[0m\n",
            "\u001b[0;31mNameError\u001b[0m: name 'video_path' is not defined"
          ]
        }
      ]
    },
    {
      "cell_type": "code",
      "metadata": {
        "id": "aCv55LRMV7b_",
        "colab_type": "code",
        "colab": {
          "base_uri": "https://localhost:8080/",
          "height": 161
        },
        "outputId": "8bf749ec-d38a-4ea7-ec32-7b97493648e8"
      },
      "source": [
        "localize_objects_uri (\"gs://colab-sample-bucket-8fd4e996-074b-11ea-83db-0242ac1c0002/cat.jpg\")"
      ],
      "execution_count": 47,
      "outputs": [
        {
          "output_type": "stream",
          "text": [
            "Number of objects found: 1\n",
            "\n",
            "Cat (confidence: 0.9828556776046753)\n",
            "Normalized bounding polygon vertices: \n",
            " - (0.07937648147344589, 0.08170490711927414)\n",
            " - (0.8934486508369446, 0.08170490711927414)\n",
            " - (0.8934486508369446, 0.9049327373504639)\n",
            " - (0.07937648147344589, 0.9049327373504639)\n"
          ],
          "name": "stdout"
        }
      ]
    },
    {
      "cell_type": "code",
      "metadata": {
        "id": "ZKfkNusyVpPV",
        "colab_type": "code",
        "colab": {
          "base_uri": "https://localhost:8080/",
          "height": 539
        },
        "outputId": "9eff4ec8-ad7c-4b65-891a-d87ee6ddcce9"
      },
      "source": [
        "localize_objects_uri (\"gs://colab-sample-bucket-8fd4e996-074b-11ea-83db-0242ac1c0002/bicycle.jpg\")"
      ],
      "execution_count": 48,
      "outputs": [
        {
          "output_type": "stream",
          "text": [
            "Number of objects found: 4\n",
            "\n",
            "Bicycle wheel (confidence: 0.8995324373245239)\n",
            "Normalized bounding polygon vertices: \n",
            " - (0.31734737753868103, 0.7904391884803772)\n",
            " - (0.4459078311920166, 0.7904391884803772)\n",
            " - (0.4459078311920166, 0.9731102585792542)\n",
            " - (0.31734737753868103, 0.9731102585792542)\n",
            "\n",
            "Bicycle wheel (confidence: 0.8842331767082214)\n",
            "Normalized bounding polygon vertices: \n",
            " - (0.5012580752372742, 0.7649986743927002)\n",
            " - (0.628057062625885, 0.7649986743927002)\n",
            " - (0.628057062625885, 0.9458420276641846)\n",
            " - (0.5012580752372742, 0.9458420276641846)\n",
            "\n",
            "Bicycle (confidence: 0.7549591064453125)\n",
            "Normalized bounding polygon vertices: \n",
            " - (0.3197494149208069, 0.6697990894317627)\n",
            " - (0.6358612775802612, 0.6697990894317627)\n",
            " - (0.6358612775802612, 0.9711346626281738)\n",
            " - (0.3197494149208069, 0.9711346626281738)\n",
            "\n",
            "Picture frame (confidence: 0.6431987285614014)\n",
            "Normalized bounding polygon vertices: \n",
            " - (0.7880365252494812, 0.15778371691703796)\n",
            " - (0.9710407853126526, 0.15778371691703796)\n",
            " - (0.9710407853126526, 0.31204989552497864)\n",
            " - (0.7880365252494812, 0.31204989552497864)\n"
          ],
          "name": "stdout"
        }
      ]
    },
    {
      "cell_type": "code",
      "metadata": {
        "id": "qdfclJq3Yi7J",
        "colab_type": "code",
        "colab": {
          "base_uri": "https://localhost:8080/",
          "height": 244
        },
        "outputId": "1523669a-16b9-4949-f93e-449402e8f381"
      },
      "source": [
        "import cv2\n",
        "from google.colab.patches import cv2_imshow\n",
        "\n",
        "#Create a video capture object to read videos\n",
        "image = cv2.imread(\"gs://colab-sample-bucket-8fd4e996-074b-11ea-83db-0242ac1c0002/bicycle.jpg\")\n",
        "w = image.shape[0]\n",
        "h = image.shape[1]\n",
        "\n",
        "p1 = (vtx.x * w, vtx.y * h)\n",
        "p2 = (580, 400)\n",
        "cv2.rectangle(image, p1, p2, (255, 0, 0), 2, 1)\n",
        "cv2_imshow(image)"
      ],
      "execution_count": 49,
      "outputs": [
        {
          "output_type": "error",
          "ename": "AttributeError",
          "evalue": "ignored",
          "traceback": [
            "\u001b[0;31m---------------------------------------------------------------------------\u001b[0m",
            "\u001b[0;31mAttributeError\u001b[0m                            Traceback (most recent call last)",
            "\u001b[0;32m<ipython-input-49-20f89f5a4409>\u001b[0m in \u001b[0;36m<module>\u001b[0;34m()\u001b[0m\n\u001b[1;32m      4\u001b[0m \u001b[0;31m#Create a video capture object to read videos\u001b[0m\u001b[0;34m\u001b[0m\u001b[0;34m\u001b[0m\u001b[0;34m\u001b[0m\u001b[0m\n\u001b[1;32m      5\u001b[0m \u001b[0mimage\u001b[0m \u001b[0;34m=\u001b[0m \u001b[0mcv2\u001b[0m\u001b[0;34m.\u001b[0m\u001b[0mimread\u001b[0m\u001b[0;34m(\u001b[0m\u001b[0;34m\"gs://colab-sample-bucket-8fd4e996-074b-11ea-83db-0242ac1c0002/bicycle.jpg\"\u001b[0m\u001b[0;34m)\u001b[0m\u001b[0;34m\u001b[0m\u001b[0;34m\u001b[0m\u001b[0m\n\u001b[0;32m----> 6\u001b[0;31m \u001b[0mw\u001b[0m \u001b[0;34m=\u001b[0m \u001b[0mimage\u001b[0m\u001b[0;34m.\u001b[0m\u001b[0mshape\u001b[0m\u001b[0;34m[\u001b[0m\u001b[0;36m0\u001b[0m\u001b[0;34m]\u001b[0m\u001b[0;34m\u001b[0m\u001b[0;34m\u001b[0m\u001b[0m\n\u001b[0m\u001b[1;32m      7\u001b[0m \u001b[0mh\u001b[0m \u001b[0;34m=\u001b[0m \u001b[0mimage\u001b[0m\u001b[0;34m.\u001b[0m\u001b[0mshape\u001b[0m\u001b[0;34m[\u001b[0m\u001b[0;36m1\u001b[0m\u001b[0;34m]\u001b[0m\u001b[0;34m\u001b[0m\u001b[0;34m\u001b[0m\u001b[0m\n\u001b[1;32m      8\u001b[0m \u001b[0;34m\u001b[0m\u001b[0m\n",
            "\u001b[0;31mAttributeError\u001b[0m: 'NoneType' object has no attribute 'shape'"
          ]
        }
      ]
    },
    {
      "cell_type": "code",
      "metadata": {
        "id": "naojVKN4eF8L",
        "colab_type": "code",
        "colab": {
          "base_uri": "https://localhost:8080/",
          "height": 244
        },
        "outputId": "2b6f7cc9-8dc1-41a3-8520-a28abb3dcef4"
      },
      "source": [
        "\"\"\" Detects labels given a GCS path. \"\"\"\n",
        "video_client = videointelligence.VideoIntelligenceServiceClient()\n",
        "features = [videointelligence.enums.Feature.LABEL_DETECTION]\n",
        "\n",
        "mode = videointelligence.enums.LabelDetectionMode.SHOT_AND_FRAME_MODE\n",
        "config = videointelligence.types.LabelDetectionConfig(\n",
        "    label_detection_mode=mode)\n",
        "context = videointelligence.types.VideoContext(\n",
        "    label_detection_config=config)\n",
        "\n",
        "operation = video_client.annotate_video(\n",
        "    path, features=features, video_context=context)\n",
        "print('\\nProcessing video for label annotations:')\n",
        "\n",
        "result = operation.result(timeout=180)\n",
        "print('\\nFinished processing.')\n",
        "\n",
        "# Process video/segment level label annotations\n",
        "segment_labels = result.annotation_results[0].segment_label_annotations\n",
        "for i, segment_label in enumerate(segment_labels):\n",
        "    print('Video label description: {}'.format(\n",
        "        segment_label.entity.description))\n",
        "    for category_entity in segment_label.category_entities:\n",
        "        print('\\tLabel category description: {}'.format(\n",
        "            category_entity.description))\n",
        "\n",
        "    for i, segment in enumerate(segment_label.segments):\n",
        "        start_time = (segment.segment.start_time_offset.seconds +\n",
        "                      segment.segment.start_time_offset.nanos / 1e9)\n",
        "        end_time = (segment.segment.end_time_offset.seconds +\n",
        "                    segment.segment.end_time_offset.nanos / 1e9)\n",
        "        positions = '{}s to {}s'.format(start_time, end_time)\n",
        "        confidence = segment.confidence\n",
        "        print('\\tSegment {}: {}'.format(i, positions))\n",
        "        print('\\tConfidence: {}'.format(confidence))\n",
        "    print('\\n')\n",
        "\n",
        "# Process shot level label annotations\n",
        "shot_labels = result.annotation_results[0].shot_label_annotations\n",
        "for i, shot_label in enumerate(shot_labels):\n",
        "    print('Shot label description: {}'.format(\n",
        "        shot_label.entity.description))\n",
        "    for category_entity in shot_label.category_entities:\n",
        "        print('\\tLabel category description: {}'.format(\n",
        "            category_entity.description))\n",
        "\n",
        "    for i, shot in enumerate(shot_label.segments):\n",
        "        start_time = (shot.segment.start_time_offset.seconds +\n",
        "                      shot.segment.start_time_offset.nanos / 1e9)\n",
        "        end_time = (shot.segment.end_time_offset.seconds +\n",
        "                    shot.segment.end_time_offset.nanos / 1e9)\n",
        "        positions = '{}s to {}s'.format(start_time, end_time)\n",
        "        confidence = shot.confidence\n",
        "        print('\\tSegment {}: {}'.format(i, positions))\n",
        "        print('\\tConfidence: {}'.format(confidence))\n",
        "    print('\\n')\n",
        "\n",
        "# Process frame level label annotations\n",
        "frame_labels = result.annotation_results[0].frame_label_annotations\n",
        "for i, frame_label in enumerate(frame_labels):\n",
        "    print('Frame label description: {}'.format(\n",
        "        frame_label.entity.description))\n",
        "    for category_entity in frame_label.category_entities:\n",
        "        print('\\tLabel category description: {}'.format(\n",
        "            category_entity.description))\n",
        "\n",
        "    # Each frame_label_annotation has many frames,\n",
        "    # here we print information only about the first frame.\n",
        "    frame = frame_label.frames[0]\n",
        "    time_offset = (frame.time_offset.seconds +\n",
        "                   frame.time_offset.nanos / 1e9)\n",
        "    print('\\tFirst frame time offset: {}s'.format(time_offset))\n",
        "    print('\\tFirst frame confidence: {}'.format(frame.confidence))\n",
        "    print('\\n')"
      ],
      "execution_count": 51,
      "outputs": [
        {
          "output_type": "error",
          "ename": "NameError",
          "evalue": "ignored",
          "traceback": [
            "\u001b[0;31m---------------------------------------------------------------------------\u001b[0m",
            "\u001b[0;31mNameError\u001b[0m                                 Traceback (most recent call last)",
            "\u001b[0;32m<ipython-input-51-55da38f2dc63>\u001b[0m in \u001b[0;36m<module>\u001b[0;34m()\u001b[0m\n\u001b[1;32m      1\u001b[0m \u001b[0;34m\"\"\" Detects labels given a GCS path. \"\"\"\u001b[0m\u001b[0;34m\u001b[0m\u001b[0;34m\u001b[0m\u001b[0m\n\u001b[0;32m----> 2\u001b[0;31m \u001b[0mvideo_client\u001b[0m \u001b[0;34m=\u001b[0m \u001b[0mvideointelligence\u001b[0m\u001b[0;34m.\u001b[0m\u001b[0mVideoIntelligenceServiceClient\u001b[0m\u001b[0;34m(\u001b[0m\u001b[0;34m)\u001b[0m\u001b[0;34m\u001b[0m\u001b[0;34m\u001b[0m\u001b[0m\n\u001b[0m\u001b[1;32m      3\u001b[0m \u001b[0mfeatures\u001b[0m \u001b[0;34m=\u001b[0m \u001b[0;34m[\u001b[0m\u001b[0mvideointelligence\u001b[0m\u001b[0;34m.\u001b[0m\u001b[0menums\u001b[0m\u001b[0;34m.\u001b[0m\u001b[0mFeature\u001b[0m\u001b[0;34m.\u001b[0m\u001b[0mLABEL_DETECTION\u001b[0m\u001b[0;34m]\u001b[0m\u001b[0;34m\u001b[0m\u001b[0;34m\u001b[0m\u001b[0m\n\u001b[1;32m      4\u001b[0m \u001b[0;34m\u001b[0m\u001b[0m\n\u001b[1;32m      5\u001b[0m \u001b[0mmode\u001b[0m \u001b[0;34m=\u001b[0m \u001b[0mvideointelligence\u001b[0m\u001b[0;34m.\u001b[0m\u001b[0menums\u001b[0m\u001b[0;34m.\u001b[0m\u001b[0mLabelDetectionMode\u001b[0m\u001b[0;34m.\u001b[0m\u001b[0mSHOT_AND_FRAME_MODE\u001b[0m\u001b[0;34m\u001b[0m\u001b[0;34m\u001b[0m\u001b[0m\n",
            "\u001b[0;31mNameError\u001b[0m: name 'videointelligence' is not defined"
          ]
        }
      ]
    },
    {
      "cell_type": "code",
      "metadata": {
        "id": "DA2ymQ0EeNrI",
        "colab_type": "code",
        "colab": {
          "base_uri": "https://localhost:8080/",
          "height": 703
        },
        "outputId": "8a080f16-7f73-4e62-cbbb-4ae63b68db04"
      },
      "source": [
        "!pip install google-cloud-vision\n",
        "!pip install google-cloud\n",
        "!pip install google-cloud-videointelligence"
      ],
      "execution_count": 55,
      "outputs": [
        {
          "output_type": "stream",
          "text": [
            "Requirement already satisfied: google-cloud-vision in /usr/local/lib/python3.6/dist-packages (0.40.0)\n",
            "Requirement already satisfied: google-api-core[grpc]<2.0.0dev,>=1.14.0 in /usr/local/lib/python3.6/dist-packages (from google-cloud-vision) (1.14.3)\n",
            "Requirement already satisfied: setuptools>=34.0.0 in /usr/local/lib/python3.6/dist-packages (from google-api-core[grpc]<2.0.0dev,>=1.14.0->google-cloud-vision) (41.4.0)\n",
            "Requirement already satisfied: requests<3.0.0dev,>=2.18.0 in /usr/local/lib/python3.6/dist-packages (from google-api-core[grpc]<2.0.0dev,>=1.14.0->google-cloud-vision) (2.21.0)\n",
            "Requirement already satisfied: pytz in /usr/local/lib/python3.6/dist-packages (from google-api-core[grpc]<2.0.0dev,>=1.14.0->google-cloud-vision) (2018.9)\n",
            "Requirement already satisfied: six>=1.10.0 in /usr/local/lib/python3.6/dist-packages (from google-api-core[grpc]<2.0.0dev,>=1.14.0->google-cloud-vision) (1.12.0)\n",
            "Requirement already satisfied: googleapis-common-protos<2.0dev,>=1.6.0 in /usr/local/lib/python3.6/dist-packages (from google-api-core[grpc]<2.0.0dev,>=1.14.0->google-cloud-vision) (1.6.0)\n",
            "Requirement already satisfied: protobuf>=3.4.0 in /usr/local/lib/python3.6/dist-packages (from google-api-core[grpc]<2.0.0dev,>=1.14.0->google-cloud-vision) (3.10.0)\n",
            "Requirement already satisfied: google-auth<2.0dev,>=0.4.0 in /usr/local/lib/python3.6/dist-packages (from google-api-core[grpc]<2.0.0dev,>=1.14.0->google-cloud-vision) (1.4.2)\n",
            "Requirement already satisfied: grpcio<2.0dev,>=1.8.2; extra == \"grpc\" in /usr/local/lib/python3.6/dist-packages (from google-api-core[grpc]<2.0.0dev,>=1.14.0->google-cloud-vision) (1.15.0)\n",
            "Requirement already satisfied: chardet<3.1.0,>=3.0.2 in /usr/local/lib/python3.6/dist-packages (from requests<3.0.0dev,>=2.18.0->google-api-core[grpc]<2.0.0dev,>=1.14.0->google-cloud-vision) (3.0.4)\n",
            "Requirement already satisfied: certifi>=2017.4.17 in /usr/local/lib/python3.6/dist-packages (from requests<3.0.0dev,>=2.18.0->google-api-core[grpc]<2.0.0dev,>=1.14.0->google-cloud-vision) (2019.9.11)\n",
            "Requirement already satisfied: urllib3<1.25,>=1.21.1 in /usr/local/lib/python3.6/dist-packages (from requests<3.0.0dev,>=2.18.0->google-api-core[grpc]<2.0.0dev,>=1.14.0->google-cloud-vision) (1.24.3)\n",
            "Requirement already satisfied: idna<2.9,>=2.5 in /usr/local/lib/python3.6/dist-packages (from requests<3.0.0dev,>=2.18.0->google-api-core[grpc]<2.0.0dev,>=1.14.0->google-cloud-vision) (2.8)\n",
            "Requirement already satisfied: pyasn1-modules>=0.2.1 in /usr/local/lib/python3.6/dist-packages (from google-auth<2.0dev,>=0.4.0->google-api-core[grpc]<2.0.0dev,>=1.14.0->google-cloud-vision) (0.2.7)\n",
            "Requirement already satisfied: cachetools>=2.0.0 in /usr/local/lib/python3.6/dist-packages (from google-auth<2.0dev,>=0.4.0->google-api-core[grpc]<2.0.0dev,>=1.14.0->google-cloud-vision) (3.1.1)\n",
            "Requirement already satisfied: rsa>=3.1.4 in /usr/local/lib/python3.6/dist-packages (from google-auth<2.0dev,>=0.4.0->google-api-core[grpc]<2.0.0dev,>=1.14.0->google-cloud-vision) (4.0)\n",
            "Requirement already satisfied: pyasn1<0.5.0,>=0.4.6 in /usr/local/lib/python3.6/dist-packages (from pyasn1-modules>=0.2.1->google-auth<2.0dev,>=0.4.0->google-api-core[grpc]<2.0.0dev,>=1.14.0->google-cloud-vision) (0.4.7)\n",
            "Requirement already satisfied: google-cloud in /usr/local/lib/python3.6/dist-packages (0.34.0)\n",
            "Requirement already satisfied: google-cloud-videointelligence in /usr/local/lib/python3.6/dist-packages (1.12.0)\n",
            "Requirement already satisfied: google-api-core[grpc]<2.0.0dev,>=1.14.0 in /usr/local/lib/python3.6/dist-packages (from google-cloud-videointelligence) (1.14.3)\n",
            "Requirement already satisfied: pytz in /usr/local/lib/python3.6/dist-packages (from google-api-core[grpc]<2.0.0dev,>=1.14.0->google-cloud-videointelligence) (2018.9)\n",
            "Requirement already satisfied: setuptools>=34.0.0 in /usr/local/lib/python3.6/dist-packages (from google-api-core[grpc]<2.0.0dev,>=1.14.0->google-cloud-videointelligence) (41.4.0)\n",
            "Requirement already satisfied: googleapis-common-protos<2.0dev,>=1.6.0 in /usr/local/lib/python3.6/dist-packages (from google-api-core[grpc]<2.0.0dev,>=1.14.0->google-cloud-videointelligence) (1.6.0)\n",
            "Requirement already satisfied: google-auth<2.0dev,>=0.4.0 in /usr/local/lib/python3.6/dist-packages (from google-api-core[grpc]<2.0.0dev,>=1.14.0->google-cloud-videointelligence) (1.4.2)\n",
            "Requirement already satisfied: requests<3.0.0dev,>=2.18.0 in /usr/local/lib/python3.6/dist-packages (from google-api-core[grpc]<2.0.0dev,>=1.14.0->google-cloud-videointelligence) (2.21.0)\n",
            "Requirement already satisfied: six>=1.10.0 in /usr/local/lib/python3.6/dist-packages (from google-api-core[grpc]<2.0.0dev,>=1.14.0->google-cloud-videointelligence) (1.12.0)\n",
            "Requirement already satisfied: protobuf>=3.4.0 in /usr/local/lib/python3.6/dist-packages (from google-api-core[grpc]<2.0.0dev,>=1.14.0->google-cloud-videointelligence) (3.10.0)\n",
            "Requirement already satisfied: grpcio<2.0dev,>=1.8.2; extra == \"grpc\" in /usr/local/lib/python3.6/dist-packages (from google-api-core[grpc]<2.0.0dev,>=1.14.0->google-cloud-videointelligence) (1.15.0)\n",
            "Requirement already satisfied: cachetools>=2.0.0 in /usr/local/lib/python3.6/dist-packages (from google-auth<2.0dev,>=0.4.0->google-api-core[grpc]<2.0.0dev,>=1.14.0->google-cloud-videointelligence) (3.1.1)\n",
            "Requirement already satisfied: pyasn1-modules>=0.2.1 in /usr/local/lib/python3.6/dist-packages (from google-auth<2.0dev,>=0.4.0->google-api-core[grpc]<2.0.0dev,>=1.14.0->google-cloud-videointelligence) (0.2.7)\n",
            "Requirement already satisfied: rsa>=3.1.4 in /usr/local/lib/python3.6/dist-packages (from google-auth<2.0dev,>=0.4.0->google-api-core[grpc]<2.0.0dev,>=1.14.0->google-cloud-videointelligence) (4.0)\n",
            "Requirement already satisfied: chardet<3.1.0,>=3.0.2 in /usr/local/lib/python3.6/dist-packages (from requests<3.0.0dev,>=2.18.0->google-api-core[grpc]<2.0.0dev,>=1.14.0->google-cloud-videointelligence) (3.0.4)\n",
            "Requirement already satisfied: urllib3<1.25,>=1.21.1 in /usr/local/lib/python3.6/dist-packages (from requests<3.0.0dev,>=2.18.0->google-api-core[grpc]<2.0.0dev,>=1.14.0->google-cloud-videointelligence) (1.24.3)\n",
            "Requirement already satisfied: certifi>=2017.4.17 in /usr/local/lib/python3.6/dist-packages (from requests<3.0.0dev,>=2.18.0->google-api-core[grpc]<2.0.0dev,>=1.14.0->google-cloud-videointelligence) (2019.9.11)\n",
            "Requirement already satisfied: idna<2.9,>=2.5 in /usr/local/lib/python3.6/dist-packages (from requests<3.0.0dev,>=2.18.0->google-api-core[grpc]<2.0.0dev,>=1.14.0->google-cloud-videointelligence) (2.8)\n",
            "Requirement already satisfied: pyasn1<0.5.0,>=0.4.6 in /usr/local/lib/python3.6/dist-packages (from pyasn1-modules>=0.2.1->google-auth<2.0dev,>=0.4.0->google-api-core[grpc]<2.0.0dev,>=1.14.0->google-cloud-videointelligence) (0.4.7)\n"
          ],
          "name": "stdout"
        }
      ]
    },
    {
      "cell_type": "code",
      "metadata": {
        "id": "ml2e8ca1fVwS",
        "colab_type": "code",
        "colab": {}
      },
      "source": [
        ""
      ],
      "execution_count": 0,
      "outputs": []
    },
    {
      "cell_type": "code",
      "metadata": {
        "id": "-lIX8gOGfbA4",
        "colab_type": "code",
        "colab": {}
      },
      "source": [
        "from google.cloud import videointelligence\n",
        "\n",
        "def analyze_labels(path):\n",
        "  \"\"\" Detects labels given a GCS path. \"\"\"\n",
        "  video_client = videointelligence.VideoIntelligenceServiceClient()\n",
        "  features = [videointelligence.enums.Feature.LABEL_DETECTION]\n",
        "  operation = video_client.annotate_video(input_uri=path, features=features)\n",
        "  print('\\nProcessing video for label annotations:')\n",
        "  result = operation.result(timeout=90)\n",
        "  print('\\nFinished processing.')\n",
        "\n",
        "  segment_labels = result.annotation_results[0].segment_label_annotations\n",
        "  for i, segment_label in enumerate(segment_labels):\n",
        "      print('Video label description: {}'.format(\n",
        "          segment_label.entity.description))\n",
        "      for category_entity in segment_label.category_entities:\n",
        "          print('\\tLabel category description: {}'.format(\n",
        "              category_entity.description))\n",
        "\n",
        "      for i, segment in enumerate(segment_label.segments):\n",
        "          start_time = (segment.segment.start_time_offset.seconds +\n",
        "                        segment.segment.start_time_offset.nanos / 1e9)\n",
        "          end_time = (segment.segment.end_time_offset.seconds +\n",
        "                      segment.segment.end_time_offset.nanos / 1e9)\n",
        "          positions = '{}s to {}s'.format(start_time, end_time)\n",
        "          confidence = segment.confidence\n",
        "          print('\\tSegment {}: {}'.format(i, positions))\n",
        "          print('\\tConfidence: {}'.format(confidence))\n",
        "      print('\\n')"
      ],
      "execution_count": 0,
      "outputs": []
    },
    {
      "cell_type": "code",
      "metadata": {
        "id": "suO7dteAdExc",
        "colab_type": "code",
        "colab": {
          "base_uri": "https://localhost:8080/",
          "height": 244
        },
        "outputId": "9b780490-cbd6-43ef-9fab-fbec1f2a2c3c"
      },
      "source": [
        "\"\"\"Detect labels given a file path.\"\"\"\n",
        "video_client = videointelligence.VideoIntelligenceServiceClient()\n",
        "features = [videointelligence.enums.Feature.LABEL_DETECTION]\n",
        "\n",
        "with io.open(\"gs://colab-sample-bucket-8fd4e996-074b-11ea-83db-0242ac1c0002/funny.mp4\", 'rb') as movie:\n",
        "    input_content = movie.read()\n",
        "\n",
        "operation = video_client.annotate_video(\n",
        "    features=features, input_content=input_content)\n",
        "print('\\nProcessing video for label annotations:')\n",
        "\n",
        "result = operation.result(timeout=90)\n",
        "print('\\nFinished processing.')\n",
        "\n",
        "# Process video/segment level label annotations\n",
        "segment_labels = result.annotation_results[0].segment_label_annotations\n",
        "for i, segment_label in enumerate(segment_labels):\n",
        "    print('Video label description: {}'.format(\n",
        "        segment_label.entity.description))\n",
        "    for category_entity in segment_label.category_entities:\n",
        "        print('\\tLabel category description: {}'.format(\n",
        "            category_entity.description))\n",
        "\n",
        "    for i, segment in enumerate(segment_label.segments):\n",
        "        start_time = (segment.segment.start_time_offset.seconds +\n",
        "                      segment.segment.start_time_offset.nanos / 1e9)\n",
        "        end_time = (segment.segment.end_time_offset.seconds +\n",
        "                    segment.segment.end_time_offset.nanos / 1e9)\n",
        "        positions = '{}s to {}s'.format(start_time, end_time)\n",
        "        confidence = segment.confidence\n",
        "        print('\\tSegment {}: {}'.format(i, positions))\n",
        "        print('\\tConfidence: {}'.format(confidence))\n",
        "    print('\\n')\n",
        "\n",
        "# Process shot level label annotations\n",
        "shot_labels = result.annotation_results[0].shot_label_annotations\n",
        "for i, shot_label in enumerate(shot_labels):\n",
        "    print('Shot label description: {}'.format(\n",
        "        shot_label.entity.description))\n",
        "    for category_entity in shot_label.category_entities:\n",
        "        print('\\tLabel category description: {}'.format(\n",
        "            category_entity.description))\n",
        "\n",
        "    for i, shot in enumerate(shot_label.segments):\n",
        "        start_time = (shot.segment.start_time_offset.seconds +\n",
        "                      shot.segment.start_time_offset.nanos / 1e9)\n",
        "        end_time = (shot.segment.end_time_offset.seconds +\n",
        "                    shot.segment.end_time_offset.nanos / 1e9)\n",
        "        positions = '{}s to {}s'.format(start_time, end_time)\n",
        "        confidence = shot.confidence\n",
        "        print('\\tSegment {}: {}'.format(i, positions))\n",
        "        print('\\tConfidence: {}'.format(confidence))\n",
        "    print('\\n')\n",
        "\n",
        "# Process frame level label annotations\n",
        "frame_labels = result.annotation_results[0].frame_label_annotations\n",
        "for i, frame_label in enumerate(frame_labels):\n",
        "    print('Frame label description: {}'.format(\n",
        "        frame_label.entity.description))\n",
        "    for category_entity in frame_label.category_entities:\n",
        "        print('\\tLabel category description: {}'.format(\n",
        "            category_entity.description))\n",
        "\n",
        "    # Each frame_label_annotation has many frames,\n",
        "    # here we print information only about the first frame.\n",
        "    frame = frame_label.frames[0]\n",
        "    time_offset = frame.time_offset.seconds + frame.time_offset.nanos / 1e9\n",
        "    print('\\tFirst frame time offset: {}s'.format(time_offset))\n",
        "    print('\\tFirst frame confidence: {}'.format(frame.confidence))\n",
        "    print('\\n')"
      ],
      "execution_count": 58,
      "outputs": [
        {
          "output_type": "error",
          "ename": "NameError",
          "evalue": "ignored",
          "traceback": [
            "\u001b[0;31m---------------------------------------------------------------------------\u001b[0m",
            "\u001b[0;31mNameError\u001b[0m                                 Traceback (most recent call last)",
            "\u001b[0;32m<ipython-input-58-11a44b2396f0>\u001b[0m in \u001b[0;36m<module>\u001b[0;34m()\u001b[0m\n\u001b[1;32m      3\u001b[0m \u001b[0mfeatures\u001b[0m \u001b[0;34m=\u001b[0m \u001b[0;34m[\u001b[0m\u001b[0mvideointelligence\u001b[0m\u001b[0;34m.\u001b[0m\u001b[0menums\u001b[0m\u001b[0;34m.\u001b[0m\u001b[0mFeature\u001b[0m\u001b[0;34m.\u001b[0m\u001b[0mLABEL_DETECTION\u001b[0m\u001b[0;34m]\u001b[0m\u001b[0;34m\u001b[0m\u001b[0;34m\u001b[0m\u001b[0m\n\u001b[1;32m      4\u001b[0m \u001b[0;34m\u001b[0m\u001b[0m\n\u001b[0;32m----> 5\u001b[0;31m \u001b[0;32mwith\u001b[0m \u001b[0mio\u001b[0m\u001b[0;34m.\u001b[0m\u001b[0mopen\u001b[0m\u001b[0;34m(\u001b[0m\u001b[0;34m\"gs://colab-sample-bucket-8fd4e996-074b-11ea-83db-0242ac1c0002/funny.mp4\"\u001b[0m\u001b[0;34m,\u001b[0m \u001b[0;34m'rb'\u001b[0m\u001b[0;34m)\u001b[0m \u001b[0;32mas\u001b[0m \u001b[0mmovie\u001b[0m\u001b[0;34m:\u001b[0m\u001b[0;34m\u001b[0m\u001b[0;34m\u001b[0m\u001b[0m\n\u001b[0m\u001b[1;32m      6\u001b[0m     \u001b[0minput_content\u001b[0m \u001b[0;34m=\u001b[0m \u001b[0mmovie\u001b[0m\u001b[0;34m.\u001b[0m\u001b[0mread\u001b[0m\u001b[0;34m(\u001b[0m\u001b[0;34m)\u001b[0m\u001b[0;34m\u001b[0m\u001b[0;34m\u001b[0m\u001b[0m\n\u001b[1;32m      7\u001b[0m \u001b[0;34m\u001b[0m\u001b[0m\n",
            "\u001b[0;31mNameError\u001b[0m: name 'io' is not defined"
          ]
        }
      ]
    },
    {
      "cell_type": "code",
      "metadata": {
        "id": "vBG-h56GhHGG",
        "colab_type": "code",
        "colab": {
          "base_uri": "https://localhost:8080/",
          "height": 136
        },
        "outputId": "2ee88840-d09b-436d-edf2-db9c559167c0"
      },
      "source": [
        "def object_tracking(gs://colab-sample-bucket-8fd4e996-074b-11ea-83db-0242ac1c0002/funny.mp4):\n",
        "  video_client = videointelligence.VideoIntelligenceServiceClient()\n",
        "  features = [videointelligence.enums.Feature.OBJECT_TRACKING]\n",
        "  operation = video_client.annotate_video(\n",
        "      input_uri=path, features=features)\n",
        "  print('\\nProcessing video for object tracking.')\n",
        "\n",
        "  result = operation.result(timeout=300)\n",
        "  print('\\nFinished processing.\\n')\n",
        "\n",
        "  # The first result is retrieved because a single video was processed.\n",
        "  object_annotations = result.annotation_results[0].object_annotations\n",
        "\n",
        "  # Get only the first annotation for demo purposes.\n",
        "  object_annotation = object_annotations[0]\n",
        "  print('Entity description: {}'.format(\n",
        "      object_annotation.entity.description))\n",
        "  if object_annotation.entity.entity_id:\n",
        "      print('Entity id: {}'.format(object_annotation.entity.entity_id))\n",
        "\n",
        "  print('Segment: {}s to {}s'.format(\n",
        "      object_annotation.segment.start_time_offset.seconds +\n",
        "      object_annotation.segment.start_time_offset.nanos / 1e9,\n",
        "      object_annotation.segment.end_time_offset.seconds +\n",
        "      object_annotation.segment.end_time_offset.nanos / 1e9))\n",
        "\n",
        "  print('Confidence: {}'.format(object_annotation.confidence))\n",
        "\n",
        "  # Here we print only the bounding box of the first frame in this segment\n",
        "  frame = object_annotation.frames[0]\n",
        "  box = frame.normalized_bounding_box\n",
        "  print('Time offset of the first frame: {}s'.format(\n",
        "      frame.time_offset.seconds + frame.time_offset.nanos / 1e9))\n",
        "  print('Bounding box position:')\n",
        "  print('\\tleft  : {}'.format(box.left))\n",
        "  print('\\ttop   : {}'.format(box.top))\n",
        "  print('\\tright : {}'.format(box.right))\n",
        "  print('\\tbottom: {}'.format(box.bottom))\n",
        "\n",
        "object_tracking('gs://colab-sample-bucket-8fd4e996-074b-11ea-83db-0242ac1c0002/funny.mp4')"
      ],
      "execution_count": 62,
      "outputs": [
        {
          "output_type": "error",
          "ename": "SyntaxError",
          "evalue": "ignored",
          "traceback": [
            "\u001b[0;36m  File \u001b[0;32m\"<ipython-input-62-ca19a49ef7ae>\"\u001b[0;36m, line \u001b[0;32m1\u001b[0m\n\u001b[0;31m    def object_tracking(gs://colab-sample-bucket-8fd4e996-074b-11ea-83db-0242ac1c0002/funny.mp4):\u001b[0m\n\u001b[0m                            ^\u001b[0m\n\u001b[0;31mSyntaxError\u001b[0m\u001b[0;31m:\u001b[0m invalid syntax\n"
          ]
        }
      ]
    },
    {
      "cell_type": "code",
      "metadata": {
        "id": "Nm_a7ZjXlbBG",
        "colab_type": "code",
        "colab": {
          "base_uri": "https://localhost:8080/",
          "height": 450
        },
        "outputId": "f0c2fc2d-c354-45fd-c568-bc94787b7dc7"
      },
      "source": [
        "object_tracking (\"gs://colab-sample-bucket-8fd4e996-074b-11ea-83db-0242ac1c0002/funny.mp4\")"
      ],
      "execution_count": 63,
      "outputs": [
        {
          "output_type": "error",
          "ename": "PermissionDenied",
          "evalue": "ignored",
          "traceback": [
            "\u001b[0;31m---------------------------------------------------------------------------\u001b[0m",
            "\u001b[0;31m_Rendezvous\u001b[0m                               Traceback (most recent call last)",
            "\u001b[0;32m/usr/local/lib/python3.6/dist-packages/google/api_core/grpc_helpers.py\u001b[0m in \u001b[0;36merror_remapped_callable\u001b[0;34m(*args, **kwargs)\u001b[0m\n\u001b[1;32m     56\u001b[0m         \u001b[0;32mtry\u001b[0m\u001b[0;34m:\u001b[0m\u001b[0;34m\u001b[0m\u001b[0;34m\u001b[0m\u001b[0m\n\u001b[0;32m---> 57\u001b[0;31m             \u001b[0;32mreturn\u001b[0m \u001b[0mcallable_\u001b[0m\u001b[0;34m(\u001b[0m\u001b[0;34m*\u001b[0m\u001b[0margs\u001b[0m\u001b[0;34m,\u001b[0m \u001b[0;34m**\u001b[0m\u001b[0mkwargs\u001b[0m\u001b[0;34m)\u001b[0m\u001b[0;34m\u001b[0m\u001b[0;34m\u001b[0m\u001b[0m\n\u001b[0m\u001b[1;32m     58\u001b[0m         \u001b[0;32mexcept\u001b[0m \u001b[0mgrpc\u001b[0m\u001b[0;34m.\u001b[0m\u001b[0mRpcError\u001b[0m \u001b[0;32mas\u001b[0m \u001b[0mexc\u001b[0m\u001b[0;34m:\u001b[0m\u001b[0;34m\u001b[0m\u001b[0;34m\u001b[0m\u001b[0m\n",
            "\u001b[0;32m/usr/local/lib/python3.6/dist-packages/grpc/_channel.py\u001b[0m in \u001b[0;36m__call__\u001b[0;34m(self, request, timeout, metadata, credentials)\u001b[0m\n\u001b[1;32m    531\u001b[0m         \u001b[0mstate\u001b[0m\u001b[0;34m,\u001b[0m \u001b[0mcall\u001b[0m\u001b[0;34m,\u001b[0m \u001b[0;34m=\u001b[0m \u001b[0mself\u001b[0m\u001b[0;34m.\u001b[0m\u001b[0m_blocking\u001b[0m\u001b[0;34m(\u001b[0m\u001b[0mrequest\u001b[0m\u001b[0;34m,\u001b[0m \u001b[0mtimeout\u001b[0m\u001b[0;34m,\u001b[0m \u001b[0mmetadata\u001b[0m\u001b[0;34m,\u001b[0m \u001b[0mcredentials\u001b[0m\u001b[0;34m)\u001b[0m\u001b[0;34m\u001b[0m\u001b[0;34m\u001b[0m\u001b[0m\n\u001b[0;32m--> 532\u001b[0;31m         \u001b[0;32mreturn\u001b[0m \u001b[0m_end_unary_response_blocking\u001b[0m\u001b[0;34m(\u001b[0m\u001b[0mstate\u001b[0m\u001b[0;34m,\u001b[0m \u001b[0mcall\u001b[0m\u001b[0;34m,\u001b[0m \u001b[0;32mFalse\u001b[0m\u001b[0;34m,\u001b[0m \u001b[0;32mNone\u001b[0m\u001b[0;34m)\u001b[0m\u001b[0;34m\u001b[0m\u001b[0;34m\u001b[0m\u001b[0m\n\u001b[0m\u001b[1;32m    533\u001b[0m \u001b[0;34m\u001b[0m\u001b[0m\n",
            "\u001b[0;32m/usr/local/lib/python3.6/dist-packages/grpc/_channel.py\u001b[0m in \u001b[0;36m_end_unary_response_blocking\u001b[0;34m(state, call, with_call, deadline)\u001b[0m\n\u001b[1;32m    465\u001b[0m     \u001b[0;32melse\u001b[0m\u001b[0;34m:\u001b[0m\u001b[0;34m\u001b[0m\u001b[0;34m\u001b[0m\u001b[0m\n\u001b[0;32m--> 466\u001b[0;31m         \u001b[0;32mraise\u001b[0m \u001b[0m_Rendezvous\u001b[0m\u001b[0;34m(\u001b[0m\u001b[0mstate\u001b[0m\u001b[0;34m,\u001b[0m \u001b[0;32mNone\u001b[0m\u001b[0;34m,\u001b[0m \u001b[0;32mNone\u001b[0m\u001b[0;34m,\u001b[0m \u001b[0mdeadline\u001b[0m\u001b[0;34m)\u001b[0m\u001b[0;34m\u001b[0m\u001b[0;34m\u001b[0m\u001b[0m\n\u001b[0m\u001b[1;32m    467\u001b[0m \u001b[0;34m\u001b[0m\u001b[0m\n",
            "\u001b[0;31m_Rendezvous\u001b[0m: <_Rendezvous of RPC that terminated with:\n\tstatus = StatusCode.PERMISSION_DENIED\n\tdetails = \"Cloud Video Intelligence API has not been used in project 2455017332 before or it is disabled. Enable it by visiting https://console.developers.google.com/apis/api/videointelligence.googleapis.com/overview?project=2455017332 then retry. If you enabled this API recently, wait a few minutes for the action to propagate to our systems and retry.\"\n\tdebug_error_string = \"{\"created\":\"@1573796688.756723033\",\"description\":\"Error received from peer\",\"file\":\"src/core/lib/surface/call.cc\",\"file_line\":1099,\"grpc_message\":\"Cloud Video Intelligence API has not been used in project 2455017332 before or it is disabled. Enable it by visiting https://console.developers.google.com/apis/api/videointelligence.googleapis.com/overview?project=2455017332 then retry. If you enabled this API recently, wait a few minutes for the action to propagate to our systems and retry.\",\"grpc_status\":7}\"\n>",
            "\nThe above exception was the direct cause of the following exception:\n",
            "\u001b[0;31mPermissionDenied\u001b[0m                          Traceback (most recent call last)",
            "\u001b[0;32m<ipython-input-63-a9894647b2e7>\u001b[0m in \u001b[0;36m<module>\u001b[0;34m()\u001b[0m\n\u001b[0;32m----> 1\u001b[0;31m \u001b[0mobject_tracking\u001b[0m \u001b[0;34m(\u001b[0m\u001b[0;34m\"gs://colab-sample-bucket-8fd4e996-074b-11ea-83db-0242ac1c0002/funny.mp4\"\u001b[0m\u001b[0;34m)\u001b[0m\u001b[0;34m\u001b[0m\u001b[0;34m\u001b[0m\u001b[0m\n\u001b[0m",
            "\u001b[0;32m<ipython-input-60-6847660e0e8a>\u001b[0m in \u001b[0;36mobject_tracking\u001b[0;34m(path)\u001b[0m\n\u001b[1;32m      3\u001b[0m   \u001b[0mfeatures\u001b[0m \u001b[0;34m=\u001b[0m \u001b[0;34m[\u001b[0m\u001b[0mvideointelligence\u001b[0m\u001b[0;34m.\u001b[0m\u001b[0menums\u001b[0m\u001b[0;34m.\u001b[0m\u001b[0mFeature\u001b[0m\u001b[0;34m.\u001b[0m\u001b[0mOBJECT_TRACKING\u001b[0m\u001b[0;34m]\u001b[0m\u001b[0;34m\u001b[0m\u001b[0;34m\u001b[0m\u001b[0m\n\u001b[1;32m      4\u001b[0m   operation = video_client.annotate_video(\n\u001b[0;32m----> 5\u001b[0;31m       input_uri=path, features=features)\n\u001b[0m\u001b[1;32m      6\u001b[0m   \u001b[0mprint\u001b[0m\u001b[0;34m(\u001b[0m\u001b[0;34m'\\nProcessing video for object tracking.'\u001b[0m\u001b[0;34m)\u001b[0m\u001b[0;34m\u001b[0m\u001b[0;34m\u001b[0m\u001b[0m\n\u001b[1;32m      7\u001b[0m \u001b[0;34m\u001b[0m\u001b[0m\n",
            "\u001b[0;32m/usr/local/lib/python3.6/dist-packages/google/cloud/videointelligence_v1/gapic/video_intelligence_service_client.py\u001b[0m in \u001b[0;36mannotate_video\u001b[0;34m(self, features, input_uri, input_content, video_context, output_uri, location_id, retry, timeout, metadata)\u001b[0m\n\u001b[1;32m    297\u001b[0m         )\n\u001b[1;32m    298\u001b[0m         operation = self._inner_api_calls[\"annotate_video\"](\n\u001b[0;32m--> 299\u001b[0;31m             \u001b[0mrequest\u001b[0m\u001b[0;34m,\u001b[0m \u001b[0mretry\u001b[0m\u001b[0;34m=\u001b[0m\u001b[0mretry\u001b[0m\u001b[0;34m,\u001b[0m \u001b[0mtimeout\u001b[0m\u001b[0;34m=\u001b[0m\u001b[0mtimeout\u001b[0m\u001b[0;34m,\u001b[0m \u001b[0mmetadata\u001b[0m\u001b[0;34m=\u001b[0m\u001b[0mmetadata\u001b[0m\u001b[0;34m\u001b[0m\u001b[0;34m\u001b[0m\u001b[0m\n\u001b[0m\u001b[1;32m    300\u001b[0m         )\n\u001b[1;32m    301\u001b[0m         return google.api_core.operation.from_gapic(\n",
            "\u001b[0;32m/usr/local/lib/python3.6/dist-packages/google/api_core/gapic_v1/method.py\u001b[0m in \u001b[0;36m__call__\u001b[0;34m(self, *args, **kwargs)\u001b[0m\n\u001b[1;32m    141\u001b[0m             \u001b[0mkwargs\u001b[0m\u001b[0;34m[\u001b[0m\u001b[0;34m\"metadata\"\u001b[0m\u001b[0;34m]\u001b[0m \u001b[0;34m=\u001b[0m \u001b[0mmetadata\u001b[0m\u001b[0;34m\u001b[0m\u001b[0;34m\u001b[0m\u001b[0m\n\u001b[1;32m    142\u001b[0m \u001b[0;34m\u001b[0m\u001b[0m\n\u001b[0;32m--> 143\u001b[0;31m         \u001b[0;32mreturn\u001b[0m \u001b[0mwrapped_func\u001b[0m\u001b[0;34m(\u001b[0m\u001b[0;34m*\u001b[0m\u001b[0margs\u001b[0m\u001b[0;34m,\u001b[0m \u001b[0;34m**\u001b[0m\u001b[0mkwargs\u001b[0m\u001b[0;34m)\u001b[0m\u001b[0;34m\u001b[0m\u001b[0;34m\u001b[0m\u001b[0m\n\u001b[0m\u001b[1;32m    144\u001b[0m \u001b[0;34m\u001b[0m\u001b[0m\n\u001b[1;32m    145\u001b[0m \u001b[0;34m\u001b[0m\u001b[0m\n",
            "\u001b[0;32m/usr/local/lib/python3.6/dist-packages/google/api_core/retry.py\u001b[0m in \u001b[0;36mretry_wrapped_func\u001b[0;34m(*args, **kwargs)\u001b[0m\n\u001b[1;32m    275\u001b[0m                 \u001b[0msleep_generator\u001b[0m\u001b[0;34m,\u001b[0m\u001b[0;34m\u001b[0m\u001b[0;34m\u001b[0m\u001b[0m\n\u001b[1;32m    276\u001b[0m                 \u001b[0mself\u001b[0m\u001b[0;34m.\u001b[0m\u001b[0m_deadline\u001b[0m\u001b[0;34m,\u001b[0m\u001b[0;34m\u001b[0m\u001b[0;34m\u001b[0m\u001b[0m\n\u001b[0;32m--> 277\u001b[0;31m                 \u001b[0mon_error\u001b[0m\u001b[0;34m=\u001b[0m\u001b[0mon_error\u001b[0m\u001b[0;34m,\u001b[0m\u001b[0;34m\u001b[0m\u001b[0;34m\u001b[0m\u001b[0m\n\u001b[0m\u001b[1;32m    278\u001b[0m             )\n\u001b[1;32m    279\u001b[0m \u001b[0;34m\u001b[0m\u001b[0m\n",
            "\u001b[0;32m/usr/local/lib/python3.6/dist-packages/google/api_core/retry.py\u001b[0m in \u001b[0;36mretry_target\u001b[0;34m(target, predicate, sleep_generator, deadline, on_error)\u001b[0m\n\u001b[1;32m    180\u001b[0m     \u001b[0;32mfor\u001b[0m \u001b[0msleep\u001b[0m \u001b[0;32min\u001b[0m \u001b[0msleep_generator\u001b[0m\u001b[0;34m:\u001b[0m\u001b[0;34m\u001b[0m\u001b[0;34m\u001b[0m\u001b[0m\n\u001b[1;32m    181\u001b[0m         \u001b[0;32mtry\u001b[0m\u001b[0;34m:\u001b[0m\u001b[0;34m\u001b[0m\u001b[0;34m\u001b[0m\u001b[0m\n\u001b[0;32m--> 182\u001b[0;31m             \u001b[0;32mreturn\u001b[0m \u001b[0mtarget\u001b[0m\u001b[0;34m(\u001b[0m\u001b[0;34m)\u001b[0m\u001b[0;34m\u001b[0m\u001b[0;34m\u001b[0m\u001b[0m\n\u001b[0m\u001b[1;32m    183\u001b[0m \u001b[0;34m\u001b[0m\u001b[0m\n\u001b[1;32m    184\u001b[0m         \u001b[0;31m# pylint: disable=broad-except\u001b[0m\u001b[0;34m\u001b[0m\u001b[0;34m\u001b[0m\u001b[0;34m\u001b[0m\u001b[0m\n",
            "\u001b[0;32m/usr/local/lib/python3.6/dist-packages/google/api_core/timeout.py\u001b[0m in \u001b[0;36mfunc_with_timeout\u001b[0;34m(*args, **kwargs)\u001b[0m\n\u001b[1;32m    212\u001b[0m             \u001b[0;34m\"\"\"Wrapped function that adds timeout.\"\"\"\u001b[0m\u001b[0;34m\u001b[0m\u001b[0;34m\u001b[0m\u001b[0m\n\u001b[1;32m    213\u001b[0m             \u001b[0mkwargs\u001b[0m\u001b[0;34m[\u001b[0m\u001b[0;34m\"timeout\"\u001b[0m\u001b[0;34m]\u001b[0m \u001b[0;34m=\u001b[0m \u001b[0mnext\u001b[0m\u001b[0;34m(\u001b[0m\u001b[0mtimeouts\u001b[0m\u001b[0;34m)\u001b[0m\u001b[0;34m\u001b[0m\u001b[0;34m\u001b[0m\u001b[0m\n\u001b[0;32m--> 214\u001b[0;31m             \u001b[0;32mreturn\u001b[0m \u001b[0mfunc\u001b[0m\u001b[0;34m(\u001b[0m\u001b[0;34m*\u001b[0m\u001b[0margs\u001b[0m\u001b[0;34m,\u001b[0m \u001b[0;34m**\u001b[0m\u001b[0mkwargs\u001b[0m\u001b[0;34m)\u001b[0m\u001b[0;34m\u001b[0m\u001b[0;34m\u001b[0m\u001b[0m\n\u001b[0m\u001b[1;32m    215\u001b[0m \u001b[0;34m\u001b[0m\u001b[0m\n\u001b[1;32m    216\u001b[0m         \u001b[0;32mreturn\u001b[0m \u001b[0mfunc_with_timeout\u001b[0m\u001b[0;34m\u001b[0m\u001b[0;34m\u001b[0m\u001b[0m\n",
            "\u001b[0;32m/usr/local/lib/python3.6/dist-packages/google/api_core/grpc_helpers.py\u001b[0m in \u001b[0;36merror_remapped_callable\u001b[0;34m(*args, **kwargs)\u001b[0m\n\u001b[1;32m     57\u001b[0m             \u001b[0;32mreturn\u001b[0m \u001b[0mcallable_\u001b[0m\u001b[0;34m(\u001b[0m\u001b[0;34m*\u001b[0m\u001b[0margs\u001b[0m\u001b[0;34m,\u001b[0m \u001b[0;34m**\u001b[0m\u001b[0mkwargs\u001b[0m\u001b[0;34m)\u001b[0m\u001b[0;34m\u001b[0m\u001b[0;34m\u001b[0m\u001b[0m\n\u001b[1;32m     58\u001b[0m         \u001b[0;32mexcept\u001b[0m \u001b[0mgrpc\u001b[0m\u001b[0;34m.\u001b[0m\u001b[0mRpcError\u001b[0m \u001b[0;32mas\u001b[0m \u001b[0mexc\u001b[0m\u001b[0;34m:\u001b[0m\u001b[0;34m\u001b[0m\u001b[0;34m\u001b[0m\u001b[0m\n\u001b[0;32m---> 59\u001b[0;31m             \u001b[0msix\u001b[0m\u001b[0;34m.\u001b[0m\u001b[0mraise_from\u001b[0m\u001b[0;34m(\u001b[0m\u001b[0mexceptions\u001b[0m\u001b[0;34m.\u001b[0m\u001b[0mfrom_grpc_error\u001b[0m\u001b[0;34m(\u001b[0m\u001b[0mexc\u001b[0m\u001b[0;34m)\u001b[0m\u001b[0;34m,\u001b[0m \u001b[0mexc\u001b[0m\u001b[0;34m)\u001b[0m\u001b[0;34m\u001b[0m\u001b[0;34m\u001b[0m\u001b[0m\n\u001b[0m\u001b[1;32m     60\u001b[0m \u001b[0;34m\u001b[0m\u001b[0m\n\u001b[1;32m     61\u001b[0m     \u001b[0;32mreturn\u001b[0m \u001b[0merror_remapped_callable\u001b[0m\u001b[0;34m\u001b[0m\u001b[0;34m\u001b[0m\u001b[0m\n",
            "\u001b[0;32m/usr/local/lib/python3.6/dist-packages/six.py\u001b[0m in \u001b[0;36mraise_from\u001b[0;34m(value, from_value)\u001b[0m\n",
            "\u001b[0;31mPermissionDenied\u001b[0m: 403 Cloud Video Intelligence API has not been used in project 2455017332 before or it is disabled. Enable it by visiting https://console.developers.google.com/apis/api/videointelligence.googleapis.com/overview?project=2455017332 then retry. If you enabled this API recently, wait a few minutes for the action to propagate to our systems and retry."
          ]
        }
      ]
    },
    {
      "cell_type": "code",
      "metadata": {
        "id": "0FvefSpwlpDP",
        "colab_type": "code",
        "colab": {
          "base_uri": "https://localhost:8080/",
          "height": 244
        },
        "outputId": "6588cfc0-6d08-4061-bee2-7262978aa88e"
      },
      "source": [
        "cap = cv2.VideoCapture('gdrive/My Drive/computer vision course/Colab/Test images/sta.mp4')\n",
        "ret, frame = cap.read()\n",
        "\n",
        "fourcc = cv2.VideoWriter_fourcc(*'MP4V')\n",
        "size = frame.shape[1], frame.shape[0]\n",
        "cap_output = cv2.VideoWriter(output_video_path, fourcc, 30, size)\n",
        "\n",
        "cap_output.write(frame)\n",
        "count = 0\n",
        "while(1):\n",
        "  ret, current_frame = cap.read()\n",
        "  if ret == False:\n",
        "    break\n",
        "                          \n",
        "  (success, box) = tracker.update(current_frame)\n",
        "\n",
        "  # draw the tracks\n",
        "\n",
        "  p1 = (int(box[0]), int(box[1]))\n",
        "  p2 = (int(box[0] + box[2]), int(box[1] + box[3]))\n",
        "  cv2.rectangle(current_frame, p1, p2, (255, 0, 0), 2, 1)  \n",
        "  cap_output.write(current_frame)\n",
        "  count += 1\n",
        "  print (count)\n",
        "  if count > 50:\n",
        "    break\n",
        "\n",
        "cap_output.release()\n",
        "cap.release()"
      ],
      "execution_count": 64,
      "outputs": [
        {
          "output_type": "error",
          "ename": "AttributeError",
          "evalue": "ignored",
          "traceback": [
            "\u001b[0;31m---------------------------------------------------------------------------\u001b[0m",
            "\u001b[0;31mAttributeError\u001b[0m                            Traceback (most recent call last)",
            "\u001b[0;32m<ipython-input-64-1b1da298d25e>\u001b[0m in \u001b[0;36m<module>\u001b[0;34m()\u001b[0m\n\u001b[1;32m      3\u001b[0m \u001b[0;34m\u001b[0m\u001b[0m\n\u001b[1;32m      4\u001b[0m \u001b[0mfourcc\u001b[0m \u001b[0;34m=\u001b[0m \u001b[0mcv2\u001b[0m\u001b[0;34m.\u001b[0m\u001b[0mVideoWriter_fourcc\u001b[0m\u001b[0;34m(\u001b[0m\u001b[0;34m*\u001b[0m\u001b[0;34m'MP4V'\u001b[0m\u001b[0;34m)\u001b[0m\u001b[0;34m\u001b[0m\u001b[0;34m\u001b[0m\u001b[0m\n\u001b[0;32m----> 5\u001b[0;31m \u001b[0msize\u001b[0m \u001b[0;34m=\u001b[0m \u001b[0mframe\u001b[0m\u001b[0;34m.\u001b[0m\u001b[0mshape\u001b[0m\u001b[0;34m[\u001b[0m\u001b[0;36m1\u001b[0m\u001b[0;34m]\u001b[0m\u001b[0;34m,\u001b[0m \u001b[0mframe\u001b[0m\u001b[0;34m.\u001b[0m\u001b[0mshape\u001b[0m\u001b[0;34m[\u001b[0m\u001b[0;36m0\u001b[0m\u001b[0;34m]\u001b[0m\u001b[0;34m\u001b[0m\u001b[0;34m\u001b[0m\u001b[0m\n\u001b[0m\u001b[1;32m      6\u001b[0m \u001b[0mcap_output\u001b[0m \u001b[0;34m=\u001b[0m \u001b[0mcv2\u001b[0m\u001b[0;34m.\u001b[0m\u001b[0mVideoWriter\u001b[0m\u001b[0;34m(\u001b[0m\u001b[0moutput_video_path\u001b[0m\u001b[0;34m,\u001b[0m \u001b[0mfourcc\u001b[0m\u001b[0;34m,\u001b[0m \u001b[0;36m30\u001b[0m\u001b[0;34m,\u001b[0m \u001b[0msize\u001b[0m\u001b[0;34m)\u001b[0m\u001b[0;34m\u001b[0m\u001b[0;34m\u001b[0m\u001b[0m\n\u001b[1;32m      7\u001b[0m \u001b[0;34m\u001b[0m\u001b[0m\n",
            "\u001b[0;31mAttributeError\u001b[0m: 'NoneType' object has no attribute 'shape'"
          ]
        }
      ]
    },
    {
      "cell_type": "code",
      "metadata": {
        "id": "fTQNnB7smBGO",
        "colab_type": "code",
        "colab": {}
      },
      "source": [
        ""
      ],
      "execution_count": 0,
      "outputs": []
    },
    {
      "cell_type": "code",
      "metadata": {
        "id": "zWyHK_UBwmKU",
        "colab_type": "code",
        "colab": {
          "base_uri": "https://localhost:8080/",
          "height": 127
        },
        "outputId": "5998c248-566a-4c06-9f2e-0f9535d7103b"
      },
      "source": [
        "from google.colab import drive\n",
        "drive.mount('/content/drive')"
      ],
      "execution_count": 67,
      "outputs": [
        {
          "output_type": "stream",
          "text": [
            "Go to this URL in a browser: https://accounts.google.com/o/oauth2/auth?client_id=947318989803-6bn6qk8qdgf4n4g3pfee6491hc0brc4i.apps.googleusercontent.com&redirect_uri=urn%3aietf%3awg%3aoauth%3a2.0%3aoob&response_type=code&scope=email%20https%3a%2f%2fwww.googleapis.com%2fauth%2fdocs.test%20https%3a%2f%2fwww.googleapis.com%2fauth%2fdrive%20https%3a%2f%2fwww.googleapis.com%2fauth%2fdrive.photos.readonly%20https%3a%2f%2fwww.googleapis.com%2fauth%2fpeopleapi.readonly\n",
            "\n",
            "Enter your authorization code:\n",
            "··········\n",
            "Mounted at /content/drive\n"
          ],
          "name": "stdout"
        }
      ]
    },
    {
      "cell_type": "code",
      "metadata": {
        "id": "bD55jgoywxdo",
        "colab_type": "code",
        "colab": {
          "base_uri": "https://localhost:8080/",
          "height": 1000
        },
        "outputId": "d78fb601-90ac-4d57-a9ee-1142fe65c639"
      },
      "source": [
        "!ffmpeg -i \"/content/drive/My Drive/data/bottle/bottle.mp4\" \"/content/drive/My Drive/data/bottle/bottle%03d.jpg\""
      ],
      "execution_count": 74,
      "outputs": [
        {
          "output_type": "stream",
          "text": [
            "ffmpeg version 3.4.6-0ubuntu0.18.04.1 Copyright (c) 2000-2019 the FFmpeg developers\n",
            "  built with gcc 7 (Ubuntu 7.3.0-16ubuntu3)\n",
            "  configuration: --prefix=/usr --extra-version=0ubuntu0.18.04.1 --toolchain=hardened --libdir=/usr/lib/x86_64-linux-gnu --incdir=/usr/include/x86_64-linux-gnu --enable-gpl --disable-stripping --enable-avresample --enable-avisynth --enable-gnutls --enable-ladspa --enable-libass --enable-libbluray --enable-libbs2b --enable-libcaca --enable-libcdio --enable-libflite --enable-libfontconfig --enable-libfreetype --enable-libfribidi --enable-libgme --enable-libgsm --enable-libmp3lame --enable-libmysofa --enable-libopenjpeg --enable-libopenmpt --enable-libopus --enable-libpulse --enable-librubberband --enable-librsvg --enable-libshine --enable-libsnappy --enable-libsoxr --enable-libspeex --enable-libssh --enable-libtheora --enable-libtwolame --enable-libvorbis --enable-libvpx --enable-libwavpack --enable-libwebp --enable-libx265 --enable-libxml2 --enable-libxvid --enable-libzmq --enable-libzvbi --enable-omx --enable-openal --enable-opengl --enable-sdl2 --enable-libdc1394 --enable-libdrm --enable-libiec61883 --enable-chromaprint --enable-frei0r --enable-libopencv --enable-libx264 --enable-shared\n",
            "  libavutil      55. 78.100 / 55. 78.100\n",
            "  libavcodec     57.107.100 / 57.107.100\n",
            "  libavformat    57. 83.100 / 57. 83.100\n",
            "  libavdevice    57. 10.100 / 57. 10.100\n",
            "  libavfilter     6.107.100 /  6.107.100\n",
            "  libavresample   3.  7.  0 /  3.  7.  0\n",
            "  libswscale      4.  8.100 /  4.  8.100\n",
            "  libswresample   2.  9.100 /  2.  9.100\n",
            "  libpostproc    54.  7.100 / 54.  7.100\n",
            "Input #0, mov,mp4,m4a,3gp,3g2,mj2, from '/content/drive/My Drive/data/bottle/bottle.mp4':\n",
            "  Metadata:\n",
            "    major_brand     : mp42\n",
            "    minor_version   : 0\n",
            "    compatible_brands: isommp42\n",
            "    creation_time   : 2019-11-15T06:25:59.000000Z\n",
            "    location        : +37.4021+127.1073/\n",
            "    location-eng    : +37.4021+127.1073/\n",
            "    com.android.version: 6.0.1\n",
            "  Duration: 00:00:04.63, start: 0.000000, bitrate: 17256 kb/s\n",
            "    Stream #0:0(eng): Video: h264 (High) (avc1 / 0x31637661), yuv420p, 1920x1080, 17030 kb/s, 30.01 fps, 30 tbr, 90k tbn, 180k tbc (default)\n",
            "    Metadata:\n",
            "      rotate          : 90\n",
            "      creation_time   : 2019-11-15T06:25:59.000000Z\n",
            "      handler_name    : VideoHandle\n",
            "    Side data:\n",
            "      displaymatrix: rotation of -90.00 degrees\n",
            "    Stream #0:1(eng): Audio: aac (LC) (mp4a / 0x6134706D), 48000 Hz, stereo, fltp, 211 kb/s (default)\n",
            "    Metadata:\n",
            "      creation_time   : 2019-11-15T06:25:59.000000Z\n",
            "      handler_name    : SoundHandle\n",
            "Stream mapping:\n",
            "  Stream #0:0 -> #0:0 (h264 (native) -> mjpeg (native))\n",
            "Press [q] to stop, [?] for help\n",
            "\u001b[1;34m[swscaler @ 0x558422e9c000] \u001b[0m\u001b[0;33mdeprecated pixel format used, make sure you did set range correctly\n",
            "\u001b[0mOutput #0, image2, to '/content/drive/My Drive/data/bottle/bottle%03d.jpg':\n",
            "  Metadata:\n",
            "    major_brand     : mp42\n",
            "    minor_version   : 0\n",
            "    compatible_brands: isommp42\n",
            "    com.android.version: 6.0.1\n",
            "    location        : +37.4021+127.1073/\n",
            "    location-eng    : +37.4021+127.1073/\n",
            "    encoder         : Lavf57.83.100\n",
            "    Stream #0:0(eng): Video: mjpeg, yuvj420p(pc), 1080x1920, q=2-31, 200 kb/s, 30 fps, 30 tbn, 30 tbc (default)\n",
            "    Metadata:\n",
            "      encoder         : Lavc57.107.100 mjpeg\n",
            "      creation_time   : 2019-11-15T06:25:59.000000Z\n",
            "      handler_name    : VideoHandle\n",
            "    Side data:\n",
            "      cpb: bitrate max/min/avg: 0/0/200000 buffer size: 0 vbv_delay: -1\n",
            "      displaymatrix: rotation of -0.00 degrees\n",
            "frame=  139 fps= 28 q=24.8 Lsize=N/A time=00:00:04.63 bitrate=N/A speed=0.929x    \n",
            "video:5122kB audio:0kB subtitle:0kB other streams:0kB global headers:0kB muxing overhead: unknown\n"
          ],
          "name": "stdout"
        }
      ]
    },
    {
      "cell_type": "code",
      "metadata": {
        "id": "k5KCG6a7xis8",
        "colab_type": "code",
        "colab": {
          "base_uri": "https://localhost:8080/",
          "height": 1000
        },
        "outputId": "23644792-5f7d-427e-8696-45ed756aa8c4"
      },
      "source": [
        "!gsutil -m cp -r \"/content/drive/My Drive/data/\" gs://colab-sample-bucket-8fd4e996-074b-11ea-83db-0242ac1c0002"
      ],
      "execution_count": 75,
      "outputs": [
        {
          "output_type": "stream",
          "text": [
            "Copying file:///content/drive/My Drive/data/bottle/bottle.mp4 [Content-Type=video/mp4]...\n",
            "Copying file:///content/drive/My Drive/data/bottle/bottle001.jpg [Content-Type=image/jpeg]...\n",
            "Copying file:///content/drive/My Drive/data/bottle/bottle006.jpg [Content-Type=image/jpeg]...\n",
            "Copying file:///content/drive/My Drive/data/bottle/bottle002.jpg [Content-Type=image/jpeg]...\n",
            "Copying file:///content/drive/My Drive/data/bottle/bottle007.jpg [Content-Type=image/jpeg]...\n",
            "Copying file:///content/drive/My Drive/data/bottle/bottle003.jpg [Content-Type=image/jpeg]...\n",
            "Copying file:///content/drive/My Drive/data/bottle/bottle008.jpg [Content-Type=image/jpeg]...\n",
            "Copying file:///content/drive/My Drive/data/bottle/bottle009.jpg [Content-Type=image/jpeg]...\n",
            "Copying file:///content/drive/My Drive/data/bottle/bottle005.jpg [Content-Type=image/jpeg]...\n",
            "Copying file:///content/drive/My Drive/data/bottle/bottle004.jpg [Content-Type=image/jpeg]...\n",
            "Copying file:///content/drive/My Drive/data/bottle/bottle010.jpg [Content-Type=image/jpeg]...\n",
            "Copying file:///content/drive/My Drive/data/bottle/bottle011.jpg [Content-Type=image/jpeg]...\n",
            "Copying file:///content/drive/My Drive/data/bottle/bottle012.jpg [Content-Type=image/jpeg]...\n",
            "Copying file:///content/drive/My Drive/data/bottle/bottle013.jpg [Content-Type=image/jpeg]...\n",
            "Copying file:///content/drive/My Drive/data/bottle/bottle014.jpg [Content-Type=image/jpeg]...\n",
            "Copying file:///content/drive/My Drive/data/bottle/bottle015.jpg [Content-Type=image/jpeg]...\n",
            "Copying file:///content/drive/My Drive/data/bottle/bottle016.jpg [Content-Type=image/jpeg]...\n",
            "Copying file:///content/drive/My Drive/data/bottle/bottle017.jpg [Content-Type=image/jpeg]...\n",
            "Copying file:///content/drive/My Drive/data/bottle/bottle018.jpg [Content-Type=image/jpeg]...\n",
            "Copying file:///content/drive/My Drive/data/bottle/bottle019.jpg [Content-Type=image/jpeg]...\n",
            "Copying file:///content/drive/My Drive/data/bottle/bottle020.jpg [Content-Type=image/jpeg]...\n",
            "Copying file:///content/drive/My Drive/data/bottle/bottle021.jpg [Content-Type=image/jpeg]...\n",
            "Copying file:///content/drive/My Drive/data/bottle/bottle022.jpg [Content-Type=image/jpeg]...\n",
            "Copying file:///content/drive/My Drive/data/bottle/bottle023.jpg [Content-Type=image/jpeg]...\n",
            "Copying file:///content/drive/My Drive/data/bottle/bottle024.jpg [Content-Type=image/jpeg]...\n",
            "Copying file:///content/drive/My Drive/data/bottle/bottle026.jpg [Content-Type=image/jpeg]...\n",
            "Copying file:///content/drive/My Drive/data/bottle/bottle027.jpg [Content-Type=image/jpeg]...\n",
            "Copying file:///content/drive/My Drive/data/bottle/bottle025.jpg [Content-Type=image/jpeg]...\n",
            "Copying file:///content/drive/My Drive/data/bottle/bottle028.jpg [Content-Type=image/jpeg]...\n",
            "Copying file:///content/drive/My Drive/data/bottle/bottle029.jpg [Content-Type=image/jpeg]...\n",
            "Copying file:///content/drive/My Drive/data/bottle/bottle030.jpg [Content-Type=image/jpeg]...\n",
            "Copying file:///content/drive/My Drive/data/bottle/bottle031.jpg [Content-Type=image/jpeg]...\n",
            "Copying file:///content/drive/My Drive/data/bottle/bottle032.jpg [Content-Type=image/jpeg]...\n",
            "Copying file:///content/drive/My Drive/data/bottle/bottle033.jpg [Content-Type=image/jpeg]...\n",
            "Copying file:///content/drive/My Drive/data/bottle/bottle034.jpg [Content-Type=image/jpeg]...\n",
            "Copying file:///content/drive/My Drive/data/bottle/bottle035.jpg [Content-Type=image/jpeg]...\n",
            "Copying file:///content/drive/My Drive/data/bottle/bottle036.jpg [Content-Type=image/jpeg]...\n",
            "Copying file:///content/drive/My Drive/data/bottle/bottle037.jpg [Content-Type=image/jpeg]...\n",
            "Copying file:///content/drive/My Drive/data/bottle/bottle038.jpg [Content-Type=image/jpeg]...\n",
            "Copying file:///content/drive/My Drive/data/bottle/bottle039.jpg [Content-Type=image/jpeg]...\n",
            "Copying file:///content/drive/My Drive/data/bottle/bottle040.jpg [Content-Type=image/jpeg]...\n",
            "Copying file:///content/drive/My Drive/data/bottle/bottle041.jpg [Content-Type=image/jpeg]...\n",
            "Copying file:///content/drive/My Drive/data/bottle/bottle042.jpg [Content-Type=image/jpeg]...\n",
            "Copying file:///content/drive/My Drive/data/bottle/bottle043.jpg [Content-Type=image/jpeg]...\n",
            "Copying file:///content/drive/My Drive/data/bottle/bottle044.jpg [Content-Type=image/jpeg]...\n",
            "Copying file:///content/drive/My Drive/data/bottle/bottle045.jpg [Content-Type=image/jpeg]...\n",
            "Copying file:///content/drive/My Drive/data/bottle/bottle046.jpg [Content-Type=image/jpeg]...\n",
            "Copying file:///content/drive/My Drive/data/bottle/bottle047.jpg [Content-Type=image/jpeg]...\n",
            "Copying file:///content/drive/My Drive/data/bottle/bottle048.jpg [Content-Type=image/jpeg]...\n",
            "Copying file:///content/drive/My Drive/data/bottle/bottle049.jpg [Content-Type=image/jpeg]...\n",
            "Copying file:///content/drive/My Drive/data/bottle/bottle050.jpg [Content-Type=image/jpeg]...\n",
            "Copying file:///content/drive/My Drive/data/bottle/bottle051.jpg [Content-Type=image/jpeg]...\n",
            "Copying file:///content/drive/My Drive/data/bottle/bottle052.jpg [Content-Type=image/jpeg]...\n",
            "Copying file:///content/drive/My Drive/data/bottle/bottle053.jpg [Content-Type=image/jpeg]...\n",
            "Copying file:///content/drive/My Drive/data/bottle/bottle054.jpg [Content-Type=image/jpeg]...\n",
            "Copying file:///content/drive/My Drive/data/bottle/bottle055.jpg [Content-Type=image/jpeg]...\n",
            "Copying file:///content/drive/My Drive/data/bottle/bottle056.jpg [Content-Type=image/jpeg]...\n",
            "Copying file:///content/drive/My Drive/data/bottle/bottle057.jpg [Content-Type=image/jpeg]...\n",
            "Copying file:///content/drive/My Drive/data/bottle/bottle058.jpg [Content-Type=image/jpeg]...\n",
            "Copying file:///content/drive/My Drive/data/bottle/bottle059.jpg [Content-Type=image/jpeg]...\n",
            "Copying file:///content/drive/My Drive/data/bottle/bottle060.jpg [Content-Type=image/jpeg]...\n",
            "Copying file:///content/drive/My Drive/data/bottle/bottle061.jpg [Content-Type=image/jpeg]...\n",
            "Copying file:///content/drive/My Drive/data/bottle/bottle062.jpg [Content-Type=image/jpeg]...\n",
            "Copying file:///content/drive/My Drive/data/bottle/bottle063.jpg [Content-Type=image/jpeg]...\n",
            "Copying file:///content/drive/My Drive/data/bottle/bottle064.jpg [Content-Type=image/jpeg]...\n",
            "Copying file:///content/drive/My Drive/data/bottle/bottle065.jpg [Content-Type=image/jpeg]...\n",
            "Copying file:///content/drive/My Drive/data/bottle/bottle066.jpg [Content-Type=image/jpeg]...\n",
            "Copying file:///content/drive/My Drive/data/bottle/bottle067.jpg [Content-Type=image/jpeg]...\n",
            "Copying file:///content/drive/My Drive/data/bottle/bottle068.jpg [Content-Type=image/jpeg]...\n",
            "Copying file:///content/drive/My Drive/data/bottle/bottle069.jpg [Content-Type=image/jpeg]...\n",
            "Copying file:///content/drive/My Drive/data/bottle/bottle070.jpg [Content-Type=image/jpeg]...\n",
            "Copying file:///content/drive/My Drive/data/bottle/bottle071.jpg [Content-Type=image/jpeg]...\n",
            "Copying file:///content/drive/My Drive/data/bottle/bottle072.jpg [Content-Type=image/jpeg]...\n",
            "Copying file:///content/drive/My Drive/data/bottle/bottle073.jpg [Content-Type=image/jpeg]...\n",
            "Copying file:///content/drive/My Drive/data/bottle/bottle074.jpg [Content-Type=image/jpeg]...\n",
            "Copying file:///content/drive/My Drive/data/bottle/bottle075.jpg [Content-Type=image/jpeg]...\n",
            "Copying file:///content/drive/My Drive/data/bottle/bottle078.jpg [Content-Type=image/jpeg]...\n",
            "Copying file:///content/drive/My Drive/data/bottle/bottle076.jpg [Content-Type=image/jpeg]...\n",
            "Copying file:///content/drive/My Drive/data/bottle/bottle077.jpg [Content-Type=image/jpeg]...\n",
            "Copying file:///content/drive/My Drive/data/bottle/bottle079.jpg [Content-Type=image/jpeg]...\n",
            "Copying file:///content/drive/My Drive/data/bottle/bottle080.jpg [Content-Type=image/jpeg]...\n",
            "Copying file:///content/drive/My Drive/data/bottle/bottle081.jpg [Content-Type=image/jpeg]...\n",
            "Copying file:///content/drive/My Drive/data/bottle/bottle082.jpg [Content-Type=image/jpeg]...\n",
            "Copying file:///content/drive/My Drive/data/bottle/bottle083.jpg [Content-Type=image/jpeg]...\n",
            "Copying file:///content/drive/My Drive/data/bottle/bottle084.jpg [Content-Type=image/jpeg]...\n",
            "Copying file:///content/drive/My Drive/data/bottle/bottle085.jpg [Content-Type=image/jpeg]...\n",
            "Copying file:///content/drive/My Drive/data/bottle/bottle086.jpg [Content-Type=image/jpeg]...\n",
            "Copying file:///content/drive/My Drive/data/bottle/bottle088.jpg [Content-Type=image/jpeg]...\n",
            "Copying file:///content/drive/My Drive/data/bottle/bottle087.jpg [Content-Type=image/jpeg]...\n",
            "Copying file:///content/drive/My Drive/data/bottle/bottle089.jpg [Content-Type=image/jpeg]...\n",
            "Copying file:///content/drive/My Drive/data/bottle/bottle090.jpg [Content-Type=image/jpeg]...\n",
            "Copying file:///content/drive/My Drive/data/bottle/bottle091.jpg [Content-Type=image/jpeg]...\n",
            "Copying file:///content/drive/My Drive/data/bottle/bottle092.jpg [Content-Type=image/jpeg]...\n",
            "Copying file:///content/drive/My Drive/data/bottle/bottle093.jpg [Content-Type=image/jpeg]...\n",
            "Copying file:///content/drive/My Drive/data/bottle/bottle094.jpg [Content-Type=image/jpeg]...\n",
            "Copying file:///content/drive/My Drive/data/bottle/bottle095.jpg [Content-Type=image/jpeg]...\n",
            "Copying file:///content/drive/My Drive/data/bottle/bottle096.jpg [Content-Type=image/jpeg]...\n",
            "Copying file:///content/drive/My Drive/data/bottle/bottle097.jpg [Content-Type=image/jpeg]...\n",
            "Copying file:///content/drive/My Drive/data/bottle/bottle098.jpg [Content-Type=image/jpeg]...\n",
            "Copying file:///content/drive/My Drive/data/bottle/bottle099.jpg [Content-Type=image/jpeg]...\n",
            "Copying file:///content/drive/My Drive/data/bottle/bottle100.jpg [Content-Type=image/jpeg]...\n",
            "Copying file:///content/drive/My Drive/data/bottle/bottle101.jpg [Content-Type=image/jpeg]...\n",
            "Copying file:///content/drive/My Drive/data/bottle/bottle102.jpg [Content-Type=image/jpeg]...\n",
            "Copying file:///content/drive/My Drive/data/bottle/bottle103.jpg [Content-Type=image/jpeg]...\n",
            "Copying file:///content/drive/My Drive/data/bottle/bottle105.jpg [Content-Type=image/jpeg]...\n",
            "Copying file:///content/drive/My Drive/data/bottle/bottle104.jpg [Content-Type=image/jpeg]...\n",
            "Copying file:///content/drive/My Drive/data/bottle/bottle106.jpg [Content-Type=image/jpeg]...\n",
            "Copying file:///content/drive/My Drive/data/bottle/bottle107.jpg [Content-Type=image/jpeg]...\n",
            "Copying file:///content/drive/My Drive/data/bottle/bottle108.jpg [Content-Type=image/jpeg]...\n",
            "Copying file:///content/drive/My Drive/data/bottle/bottle109.jpg [Content-Type=image/jpeg]...\n",
            "Copying file:///content/drive/My Drive/data/bottle/bottle110.jpg [Content-Type=image/jpeg]...\n",
            "Copying file:///content/drive/My Drive/data/bottle/bottle111.jpg [Content-Type=image/jpeg]...\n",
            "Copying file:///content/drive/My Drive/data/bottle/bottle112.jpg [Content-Type=image/jpeg]...\n",
            "Copying file:///content/drive/My Drive/data/bottle/bottle113.jpg [Content-Type=image/jpeg]...\n",
            "Copying file:///content/drive/My Drive/data/bottle/bottle114.jpg [Content-Type=image/jpeg]...\n",
            "Copying file:///content/drive/My Drive/data/bottle/bottle115.jpg [Content-Type=image/jpeg]...\n",
            "Copying file:///content/drive/My Drive/data/bottle/bottle116.jpg [Content-Type=image/jpeg]...\n",
            "Copying file:///content/drive/My Drive/data/bottle/bottle117.jpg [Content-Type=image/jpeg]...\n",
            "Copying file:///content/drive/My Drive/data/bottle/bottle118.jpg [Content-Type=image/jpeg]...\n",
            "Copying file:///content/drive/My Drive/data/bottle/bottle119.jpg [Content-Type=image/jpeg]...\n",
            "Copying file:///content/drive/My Drive/data/bottle/bottle120.jpg [Content-Type=image/jpeg]...\n",
            "Copying file:///content/drive/My Drive/data/bottle/bottle121.jpg [Content-Type=image/jpeg]...\n",
            "Copying file:///content/drive/My Drive/data/bottle/bottle122.jpg [Content-Type=image/jpeg]...\n",
            "Copying file:///content/drive/My Drive/data/bottle/bottle123.jpg [Content-Type=image/jpeg]...\n",
            "Copying file:///content/drive/My Drive/data/bottle/bottle124.jpg [Content-Type=image/jpeg]...\n",
            "Copying file:///content/drive/My Drive/data/bottle/bottle125.jpg [Content-Type=image/jpeg]...\n",
            "Copying file:///content/drive/My Drive/data/bottle/bottle126.jpg [Content-Type=image/jpeg]...\n",
            "Copying file:///content/drive/My Drive/data/bottle/bottle127.jpg [Content-Type=image/jpeg]...\n",
            "Copying file:///content/drive/My Drive/data/bottle/bottle128.jpg [Content-Type=image/jpeg]...\n",
            "Copying file:///content/drive/My Drive/data/bottle/bottle129.jpg [Content-Type=image/jpeg]...\n",
            "Copying file:///content/drive/My Drive/data/bottle/bottle130.jpg [Content-Type=image/jpeg]...\n",
            "Copying file:///content/drive/My Drive/data/bottle/bottle131.jpg [Content-Type=image/jpeg]...\n",
            "Copying file:///content/drive/My Drive/data/bottle/bottle132.jpg [Content-Type=image/jpeg]...\n",
            "Copying file:///content/drive/My Drive/data/bottle/bottle133.jpg [Content-Type=image/jpeg]...\n",
            "Copying file:///content/drive/My Drive/data/bottle/bottle134.jpg [Content-Type=image/jpeg]...\n",
            "Copying file:///content/drive/My Drive/data/bottle/bottle135.jpg [Content-Type=image/jpeg]...\n",
            "Copying file:///content/drive/My Drive/data/bottle/bottle136.jpg [Content-Type=image/jpeg]...\n",
            "Copying file:///content/drive/My Drive/data/bottle/bottle137.jpg [Content-Type=image/jpeg]...\n",
            "Copying file:///content/drive/My Drive/data/bottle/bottle139.jpg [Content-Type=image/jpeg]...\n",
            "Copying file:///content/drive/My Drive/data/bottle/bottle138.jpg [Content-Type=image/jpeg]...\n",
            "Copying file:///content/drive/My Drive/data/mouse/mouse.mp4 [Content-Type=video/mp4]...\n",
            "| [141/141 files][ 25.2 MiB/ 25.2 MiB] 100% Done                                \n",
            "Operation completed over 141 objects/25.2 MiB.                                   \n"
          ],
          "name": "stdout"
        }
      ]
    },
    {
      "cell_type": "code",
      "metadata": {
        "id": "COkBHxvT1ENl",
        "colab_type": "code",
        "colab": {}
      },
      "source": [
        "import os\n",
        "import pandas as pd"
      ],
      "execution_count": 0,
      "outputs": []
    },
    {
      "cell_type": "code",
      "metadata": {
        "id": "RzpaP0ll1v8U",
        "colab_type": "code",
        "colab": {
          "base_uri": "https://localhost:8080/",
          "height": 35
        },
        "outputId": "4b47cefe-e841-4961-c81b-100299a773e4"
      },
      "source": [
        "drive_data_folders = ['/content/drive/My Drive/data/bottle', '/content/drive/My Drive/data/mouse']\n",
        "drive_data_folders"
      ],
      "execution_count": 86,
      "outputs": [
        {
          "output_type": "execute_result",
          "data": {
            "text/plain": [
              "['/content/drive/My Drive/data/bottle', '/content/drive/My Drive/data/mouse']"
            ]
          },
          "metadata": {
            "tags": []
          },
          "execution_count": 86
        }
      ]
    },
    {
      "cell_type": "code",
      "metadata": {
        "id": "PUhegtzU2HOv",
        "colab_type": "code",
        "colab": {
          "base_uri": "https://localhost:8080/",
          "height": 55
        },
        "outputId": "a3962889-4c5c-494a-d725-932831d386c3"
      },
      "source": [
        "filenames = [os.listdir(f) for f in drive_data_folders]\n",
        "print (filenames)\n",
        "bucket_folders = ['bottle','mouse']\n",
        "files_dict = dict(zip(bucket_folders, filenames))"
      ],
      "execution_count": 89,
      "outputs": [
        {
          "output_type": "stream",
          "text": [
            "[['bottle.mp4', 'bottle001.jpg', 'bottle002.jpg', 'bottle003.jpg', 'bottle004.jpg', 'bottle005.jpg', 'bottle006.jpg', 'bottle007.jpg', 'bottle008.jpg', 'bottle009.jpg', 'bottle010.jpg', 'bottle011.jpg', 'bottle012.jpg', 'bottle013.jpg', 'bottle014.jpg', 'bottle015.jpg', 'bottle016.jpg', 'bottle017.jpg', 'bottle018.jpg', 'bottle019.jpg', 'bottle020.jpg', 'bottle021.jpg', 'bottle022.jpg', 'bottle023.jpg', 'bottle024.jpg', 'bottle025.jpg', 'bottle026.jpg', 'bottle027.jpg', 'bottle028.jpg', 'bottle029.jpg', 'bottle030.jpg', 'bottle031.jpg', 'bottle032.jpg', 'bottle033.jpg', 'bottle034.jpg', 'bottle035.jpg', 'bottle036.jpg', 'bottle037.jpg', 'bottle038.jpg', 'bottle039.jpg', 'bottle040.jpg', 'bottle041.jpg', 'bottle042.jpg', 'bottle043.jpg', 'bottle044.jpg', 'bottle045.jpg', 'bottle046.jpg', 'bottle047.jpg', 'bottle048.jpg', 'bottle049.jpg', 'bottle050.jpg', 'bottle051.jpg', 'bottle052.jpg', 'bottle053.jpg', 'bottle054.jpg', 'bottle055.jpg', 'bottle056.jpg', 'bottle057.jpg', 'bottle058.jpg', 'bottle059.jpg', 'bottle060.jpg', 'bottle061.jpg', 'bottle062.jpg', 'bottle063.jpg', 'bottle064.jpg', 'bottle065.jpg', 'bottle066.jpg', 'bottle067.jpg', 'bottle068.jpg', 'bottle069.jpg', 'bottle070.jpg', 'bottle071.jpg', 'bottle072.jpg', 'bottle073.jpg', 'bottle074.jpg', 'bottle075.jpg', 'bottle076.jpg', 'bottle077.jpg', 'bottle078.jpg', 'bottle079.jpg', 'bottle080.jpg', 'bottle081.jpg', 'bottle082.jpg', 'bottle083.jpg', 'bottle084.jpg', 'bottle085.jpg', 'bottle086.jpg', 'bottle087.jpg', 'bottle088.jpg', 'bottle089.jpg', 'bottle090.jpg', 'bottle091.jpg', 'bottle092.jpg', 'bottle093.jpg', 'bottle094.jpg', 'bottle095.jpg', 'bottle096.jpg', 'bottle097.jpg', 'bottle098.jpg', 'bottle099.jpg', 'bottle100.jpg', 'bottle101.jpg', 'bottle102.jpg', 'bottle103.jpg', 'bottle104.jpg', 'bottle105.jpg', 'bottle106.jpg', 'bottle107.jpg', 'bottle108.jpg', 'bottle109.jpg', 'bottle110.jpg', 'bottle111.jpg', 'bottle112.jpg', 'bottle113.jpg', 'bottle114.jpg', 'bottle115.jpg', 'bottle116.jpg', 'bottle117.jpg', 'bottle118.jpg', 'bottle119.jpg', 'bottle120.jpg', 'bottle121.jpg', 'bottle122.jpg', 'bottle123.jpg', 'bottle124.jpg', 'bottle125.jpg', 'bottle126.jpg', 'bottle127.jpg', 'bottle128.jpg', 'bottle129.jpg', 'bottle130.jpg', 'bottle131.jpg', 'bottle132.jpg', 'bottle133.jpg', 'bottle134.jpg', 'bottle135.jpg', 'bottle136.jpg', 'bottle137.jpg', 'bottle138.jpg', 'bottle139.jpg'], ['mouse.mp4']]\n"
          ],
          "name": "stdout"
        }
      ]
    },
    {
      "cell_type": "code",
      "metadata": {
        "id": "l3MngqDe2ejL",
        "colab_type": "code",
        "colab": {}
      },
      "source": [
        "data_array = [ ]\n",
        "bucket_path=\"gs://colab-sample-bucket-8fd4e996-074b-11ea-83db-0242ac1c0002/\"\n",
        "\n",
        "for (dict_key, files_list) in files_dict.items():\n",
        "  for filename in files_list:\n",
        "    if '.jpg' not in filename:\n",
        "      continue # don't include non-photos\n",
        "\n",
        "      label = dict_key\n",
        "      data_array.append((bucket_path + dict_key + '/' + filename , label))"
      ],
      "execution_count": 0,
      "outputs": []
    },
    {
      "cell_type": "code",
      "metadata": {
        "id": "u-_Zo3BQ6CMG",
        "colab_type": "code",
        "colab": {}
      },
      "source": [
        "import os\n",
        "import pandas as pd\n",
        "\n",
        "drive_data_folders = ['/content/drive/My Drive/data/bottle','/content/drive/My Drive/data/mouse']\n",
        "drive_data_folders\n",
        "\n",
        "filenames = [os.listdir(f) for f in drive_data_folders]\n",
        "bucket_folders = ['bottle', 'mouse']\n",
        "files_dict = dict(zip(bucket_folders, filenames))\n",
        "\n",
        "data_array = []\n",
        "bucket_path= 'gs://colab-sample-bucket-8fd4e996-074b-11ea-83db-0242ac1c0002/data/'\n",
        "for (dict_key, files_list) in files_dict.items():\n",
        "  for filename in files_list:\n",
        "    if '.jpg' not in filename:\n",
        "      continue \n",
        "    label = dict_key\n",
        "    data_array.append((bucket_path + dict_key + '/' + filename, label))"
      ],
      "execution_count": 0,
      "outputs": []
    },
    {
      "cell_type": "code",
      "metadata": {
        "id": "z3WATiHE4xQ9",
        "colab_type": "code",
        "colab": {
          "base_uri": "https://localhost:8080/",
          "height": 55
        },
        "outputId": "c2ee4ae9-52c1-41be-83f1-5be731af83b7"
      },
      "source": [
        "print (data_array)"
      ],
      "execution_count": 98,
      "outputs": [
        {
          "output_type": "stream",
          "text": [
            "[('gs://colab-sample-bucket-8fd4e996-074b-11ea-83db-0242ac1c0002/data/bottle/bottle001.jpg', 'bottle'), ('gs://colab-sample-bucket-8fd4e996-074b-11ea-83db-0242ac1c0002/data/bottle/bottle002.jpg', 'bottle'), ('gs://colab-sample-bucket-8fd4e996-074b-11ea-83db-0242ac1c0002/data/bottle/bottle003.jpg', 'bottle'), ('gs://colab-sample-bucket-8fd4e996-074b-11ea-83db-0242ac1c0002/data/bottle/bottle004.jpg', 'bottle'), ('gs://colab-sample-bucket-8fd4e996-074b-11ea-83db-0242ac1c0002/data/bottle/bottle005.jpg', 'bottle'), ('gs://colab-sample-bucket-8fd4e996-074b-11ea-83db-0242ac1c0002/data/bottle/bottle006.jpg', 'bottle'), ('gs://colab-sample-bucket-8fd4e996-074b-11ea-83db-0242ac1c0002/data/bottle/bottle007.jpg', 'bottle'), ('gs://colab-sample-bucket-8fd4e996-074b-11ea-83db-0242ac1c0002/data/bottle/bottle008.jpg', 'bottle'), ('gs://colab-sample-bucket-8fd4e996-074b-11ea-83db-0242ac1c0002/data/bottle/bottle009.jpg', 'bottle'), ('gs://colab-sample-bucket-8fd4e996-074b-11ea-83db-0242ac1c0002/data/bottle/bottle010.jpg', 'bottle'), ('gs://colab-sample-bucket-8fd4e996-074b-11ea-83db-0242ac1c0002/data/bottle/bottle011.jpg', 'bottle'), ('gs://colab-sample-bucket-8fd4e996-074b-11ea-83db-0242ac1c0002/data/bottle/bottle012.jpg', 'bottle'), ('gs://colab-sample-bucket-8fd4e996-074b-11ea-83db-0242ac1c0002/data/bottle/bottle013.jpg', 'bottle'), ('gs://colab-sample-bucket-8fd4e996-074b-11ea-83db-0242ac1c0002/data/bottle/bottle014.jpg', 'bottle'), ('gs://colab-sample-bucket-8fd4e996-074b-11ea-83db-0242ac1c0002/data/bottle/bottle015.jpg', 'bottle'), ('gs://colab-sample-bucket-8fd4e996-074b-11ea-83db-0242ac1c0002/data/bottle/bottle016.jpg', 'bottle'), ('gs://colab-sample-bucket-8fd4e996-074b-11ea-83db-0242ac1c0002/data/bottle/bottle017.jpg', 'bottle'), ('gs://colab-sample-bucket-8fd4e996-074b-11ea-83db-0242ac1c0002/data/bottle/bottle018.jpg', 'bottle'), ('gs://colab-sample-bucket-8fd4e996-074b-11ea-83db-0242ac1c0002/data/bottle/bottle019.jpg', 'bottle'), ('gs://colab-sample-bucket-8fd4e996-074b-11ea-83db-0242ac1c0002/data/bottle/bottle020.jpg', 'bottle'), ('gs://colab-sample-bucket-8fd4e996-074b-11ea-83db-0242ac1c0002/data/bottle/bottle021.jpg', 'bottle'), ('gs://colab-sample-bucket-8fd4e996-074b-11ea-83db-0242ac1c0002/data/bottle/bottle022.jpg', 'bottle'), ('gs://colab-sample-bucket-8fd4e996-074b-11ea-83db-0242ac1c0002/data/bottle/bottle023.jpg', 'bottle'), ('gs://colab-sample-bucket-8fd4e996-074b-11ea-83db-0242ac1c0002/data/bottle/bottle024.jpg', 'bottle'), ('gs://colab-sample-bucket-8fd4e996-074b-11ea-83db-0242ac1c0002/data/bottle/bottle025.jpg', 'bottle'), ('gs://colab-sample-bucket-8fd4e996-074b-11ea-83db-0242ac1c0002/data/bottle/bottle026.jpg', 'bottle'), ('gs://colab-sample-bucket-8fd4e996-074b-11ea-83db-0242ac1c0002/data/bottle/bottle027.jpg', 'bottle'), ('gs://colab-sample-bucket-8fd4e996-074b-11ea-83db-0242ac1c0002/data/bottle/bottle028.jpg', 'bottle'), ('gs://colab-sample-bucket-8fd4e996-074b-11ea-83db-0242ac1c0002/data/bottle/bottle029.jpg', 'bottle'), ('gs://colab-sample-bucket-8fd4e996-074b-11ea-83db-0242ac1c0002/data/bottle/bottle030.jpg', 'bottle'), ('gs://colab-sample-bucket-8fd4e996-074b-11ea-83db-0242ac1c0002/data/bottle/bottle031.jpg', 'bottle'), ('gs://colab-sample-bucket-8fd4e996-074b-11ea-83db-0242ac1c0002/data/bottle/bottle032.jpg', 'bottle'), ('gs://colab-sample-bucket-8fd4e996-074b-11ea-83db-0242ac1c0002/data/bottle/bottle033.jpg', 'bottle'), ('gs://colab-sample-bucket-8fd4e996-074b-11ea-83db-0242ac1c0002/data/bottle/bottle034.jpg', 'bottle'), ('gs://colab-sample-bucket-8fd4e996-074b-11ea-83db-0242ac1c0002/data/bottle/bottle035.jpg', 'bottle'), ('gs://colab-sample-bucket-8fd4e996-074b-11ea-83db-0242ac1c0002/data/bottle/bottle036.jpg', 'bottle'), ('gs://colab-sample-bucket-8fd4e996-074b-11ea-83db-0242ac1c0002/data/bottle/bottle037.jpg', 'bottle'), ('gs://colab-sample-bucket-8fd4e996-074b-11ea-83db-0242ac1c0002/data/bottle/bottle038.jpg', 'bottle'), ('gs://colab-sample-bucket-8fd4e996-074b-11ea-83db-0242ac1c0002/data/bottle/bottle039.jpg', 'bottle'), ('gs://colab-sample-bucket-8fd4e996-074b-11ea-83db-0242ac1c0002/data/bottle/bottle040.jpg', 'bottle'), ('gs://colab-sample-bucket-8fd4e996-074b-11ea-83db-0242ac1c0002/data/bottle/bottle041.jpg', 'bottle'), ('gs://colab-sample-bucket-8fd4e996-074b-11ea-83db-0242ac1c0002/data/bottle/bottle042.jpg', 'bottle'), ('gs://colab-sample-bucket-8fd4e996-074b-11ea-83db-0242ac1c0002/data/bottle/bottle043.jpg', 'bottle'), ('gs://colab-sample-bucket-8fd4e996-074b-11ea-83db-0242ac1c0002/data/bottle/bottle044.jpg', 'bottle'), ('gs://colab-sample-bucket-8fd4e996-074b-11ea-83db-0242ac1c0002/data/bottle/bottle045.jpg', 'bottle'), ('gs://colab-sample-bucket-8fd4e996-074b-11ea-83db-0242ac1c0002/data/bottle/bottle046.jpg', 'bottle'), ('gs://colab-sample-bucket-8fd4e996-074b-11ea-83db-0242ac1c0002/data/bottle/bottle047.jpg', 'bottle'), ('gs://colab-sample-bucket-8fd4e996-074b-11ea-83db-0242ac1c0002/data/bottle/bottle048.jpg', 'bottle'), ('gs://colab-sample-bucket-8fd4e996-074b-11ea-83db-0242ac1c0002/data/bottle/bottle049.jpg', 'bottle'), ('gs://colab-sample-bucket-8fd4e996-074b-11ea-83db-0242ac1c0002/data/bottle/bottle050.jpg', 'bottle'), ('gs://colab-sample-bucket-8fd4e996-074b-11ea-83db-0242ac1c0002/data/bottle/bottle051.jpg', 'bottle'), ('gs://colab-sample-bucket-8fd4e996-074b-11ea-83db-0242ac1c0002/data/bottle/bottle052.jpg', 'bottle'), ('gs://colab-sample-bucket-8fd4e996-074b-11ea-83db-0242ac1c0002/data/bottle/bottle053.jpg', 'bottle'), ('gs://colab-sample-bucket-8fd4e996-074b-11ea-83db-0242ac1c0002/data/bottle/bottle054.jpg', 'bottle'), ('gs://colab-sample-bucket-8fd4e996-074b-11ea-83db-0242ac1c0002/data/bottle/bottle055.jpg', 'bottle'), ('gs://colab-sample-bucket-8fd4e996-074b-11ea-83db-0242ac1c0002/data/bottle/bottle056.jpg', 'bottle'), ('gs://colab-sample-bucket-8fd4e996-074b-11ea-83db-0242ac1c0002/data/bottle/bottle057.jpg', 'bottle'), ('gs://colab-sample-bucket-8fd4e996-074b-11ea-83db-0242ac1c0002/data/bottle/bottle058.jpg', 'bottle'), ('gs://colab-sample-bucket-8fd4e996-074b-11ea-83db-0242ac1c0002/data/bottle/bottle059.jpg', 'bottle'), ('gs://colab-sample-bucket-8fd4e996-074b-11ea-83db-0242ac1c0002/data/bottle/bottle060.jpg', 'bottle'), ('gs://colab-sample-bucket-8fd4e996-074b-11ea-83db-0242ac1c0002/data/bottle/bottle061.jpg', 'bottle'), ('gs://colab-sample-bucket-8fd4e996-074b-11ea-83db-0242ac1c0002/data/bottle/bottle062.jpg', 'bottle'), ('gs://colab-sample-bucket-8fd4e996-074b-11ea-83db-0242ac1c0002/data/bottle/bottle063.jpg', 'bottle'), ('gs://colab-sample-bucket-8fd4e996-074b-11ea-83db-0242ac1c0002/data/bottle/bottle064.jpg', 'bottle'), ('gs://colab-sample-bucket-8fd4e996-074b-11ea-83db-0242ac1c0002/data/bottle/bottle065.jpg', 'bottle'), ('gs://colab-sample-bucket-8fd4e996-074b-11ea-83db-0242ac1c0002/data/bottle/bottle066.jpg', 'bottle'), ('gs://colab-sample-bucket-8fd4e996-074b-11ea-83db-0242ac1c0002/data/bottle/bottle067.jpg', 'bottle'), ('gs://colab-sample-bucket-8fd4e996-074b-11ea-83db-0242ac1c0002/data/bottle/bottle068.jpg', 'bottle'), ('gs://colab-sample-bucket-8fd4e996-074b-11ea-83db-0242ac1c0002/data/bottle/bottle069.jpg', 'bottle'), ('gs://colab-sample-bucket-8fd4e996-074b-11ea-83db-0242ac1c0002/data/bottle/bottle070.jpg', 'bottle'), ('gs://colab-sample-bucket-8fd4e996-074b-11ea-83db-0242ac1c0002/data/bottle/bottle071.jpg', 'bottle'), ('gs://colab-sample-bucket-8fd4e996-074b-11ea-83db-0242ac1c0002/data/bottle/bottle072.jpg', 'bottle'), ('gs://colab-sample-bucket-8fd4e996-074b-11ea-83db-0242ac1c0002/data/bottle/bottle073.jpg', 'bottle'), ('gs://colab-sample-bucket-8fd4e996-074b-11ea-83db-0242ac1c0002/data/bottle/bottle074.jpg', 'bottle'), ('gs://colab-sample-bucket-8fd4e996-074b-11ea-83db-0242ac1c0002/data/bottle/bottle075.jpg', 'bottle'), ('gs://colab-sample-bucket-8fd4e996-074b-11ea-83db-0242ac1c0002/data/bottle/bottle076.jpg', 'bottle'), ('gs://colab-sample-bucket-8fd4e996-074b-11ea-83db-0242ac1c0002/data/bottle/bottle077.jpg', 'bottle'), ('gs://colab-sample-bucket-8fd4e996-074b-11ea-83db-0242ac1c0002/data/bottle/bottle078.jpg', 'bottle'), ('gs://colab-sample-bucket-8fd4e996-074b-11ea-83db-0242ac1c0002/data/bottle/bottle079.jpg', 'bottle'), ('gs://colab-sample-bucket-8fd4e996-074b-11ea-83db-0242ac1c0002/data/bottle/bottle080.jpg', 'bottle'), ('gs://colab-sample-bucket-8fd4e996-074b-11ea-83db-0242ac1c0002/data/bottle/bottle081.jpg', 'bottle'), ('gs://colab-sample-bucket-8fd4e996-074b-11ea-83db-0242ac1c0002/data/bottle/bottle082.jpg', 'bottle'), ('gs://colab-sample-bucket-8fd4e996-074b-11ea-83db-0242ac1c0002/data/bottle/bottle083.jpg', 'bottle'), ('gs://colab-sample-bucket-8fd4e996-074b-11ea-83db-0242ac1c0002/data/bottle/bottle084.jpg', 'bottle'), ('gs://colab-sample-bucket-8fd4e996-074b-11ea-83db-0242ac1c0002/data/bottle/bottle085.jpg', 'bottle'), ('gs://colab-sample-bucket-8fd4e996-074b-11ea-83db-0242ac1c0002/data/bottle/bottle086.jpg', 'bottle'), ('gs://colab-sample-bucket-8fd4e996-074b-11ea-83db-0242ac1c0002/data/bottle/bottle087.jpg', 'bottle'), ('gs://colab-sample-bucket-8fd4e996-074b-11ea-83db-0242ac1c0002/data/bottle/bottle088.jpg', 'bottle'), ('gs://colab-sample-bucket-8fd4e996-074b-11ea-83db-0242ac1c0002/data/bottle/bottle089.jpg', 'bottle'), ('gs://colab-sample-bucket-8fd4e996-074b-11ea-83db-0242ac1c0002/data/bottle/bottle090.jpg', 'bottle'), ('gs://colab-sample-bucket-8fd4e996-074b-11ea-83db-0242ac1c0002/data/bottle/bottle091.jpg', 'bottle'), ('gs://colab-sample-bucket-8fd4e996-074b-11ea-83db-0242ac1c0002/data/bottle/bottle092.jpg', 'bottle'), ('gs://colab-sample-bucket-8fd4e996-074b-11ea-83db-0242ac1c0002/data/bottle/bottle093.jpg', 'bottle'), ('gs://colab-sample-bucket-8fd4e996-074b-11ea-83db-0242ac1c0002/data/bottle/bottle094.jpg', 'bottle'), ('gs://colab-sample-bucket-8fd4e996-074b-11ea-83db-0242ac1c0002/data/bottle/bottle095.jpg', 'bottle'), ('gs://colab-sample-bucket-8fd4e996-074b-11ea-83db-0242ac1c0002/data/bottle/bottle096.jpg', 'bottle'), ('gs://colab-sample-bucket-8fd4e996-074b-11ea-83db-0242ac1c0002/data/bottle/bottle097.jpg', 'bottle'), ('gs://colab-sample-bucket-8fd4e996-074b-11ea-83db-0242ac1c0002/data/bottle/bottle098.jpg', 'bottle'), ('gs://colab-sample-bucket-8fd4e996-074b-11ea-83db-0242ac1c0002/data/bottle/bottle099.jpg', 'bottle'), ('gs://colab-sample-bucket-8fd4e996-074b-11ea-83db-0242ac1c0002/data/bottle/bottle100.jpg', 'bottle'), ('gs://colab-sample-bucket-8fd4e996-074b-11ea-83db-0242ac1c0002/data/bottle/bottle101.jpg', 'bottle'), ('gs://colab-sample-bucket-8fd4e996-074b-11ea-83db-0242ac1c0002/data/bottle/bottle102.jpg', 'bottle'), ('gs://colab-sample-bucket-8fd4e996-074b-11ea-83db-0242ac1c0002/data/bottle/bottle103.jpg', 'bottle'), ('gs://colab-sample-bucket-8fd4e996-074b-11ea-83db-0242ac1c0002/data/bottle/bottle104.jpg', 'bottle'), ('gs://colab-sample-bucket-8fd4e996-074b-11ea-83db-0242ac1c0002/data/bottle/bottle105.jpg', 'bottle'), ('gs://colab-sample-bucket-8fd4e996-074b-11ea-83db-0242ac1c0002/data/bottle/bottle106.jpg', 'bottle'), ('gs://colab-sample-bucket-8fd4e996-074b-11ea-83db-0242ac1c0002/data/bottle/bottle107.jpg', 'bottle'), ('gs://colab-sample-bucket-8fd4e996-074b-11ea-83db-0242ac1c0002/data/bottle/bottle108.jpg', 'bottle'), ('gs://colab-sample-bucket-8fd4e996-074b-11ea-83db-0242ac1c0002/data/bottle/bottle109.jpg', 'bottle'), ('gs://colab-sample-bucket-8fd4e996-074b-11ea-83db-0242ac1c0002/data/bottle/bottle110.jpg', 'bottle'), ('gs://colab-sample-bucket-8fd4e996-074b-11ea-83db-0242ac1c0002/data/bottle/bottle111.jpg', 'bottle'), ('gs://colab-sample-bucket-8fd4e996-074b-11ea-83db-0242ac1c0002/data/bottle/bottle112.jpg', 'bottle'), ('gs://colab-sample-bucket-8fd4e996-074b-11ea-83db-0242ac1c0002/data/bottle/bottle113.jpg', 'bottle'), ('gs://colab-sample-bucket-8fd4e996-074b-11ea-83db-0242ac1c0002/data/bottle/bottle114.jpg', 'bottle'), ('gs://colab-sample-bucket-8fd4e996-074b-11ea-83db-0242ac1c0002/data/bottle/bottle115.jpg', 'bottle'), ('gs://colab-sample-bucket-8fd4e996-074b-11ea-83db-0242ac1c0002/data/bottle/bottle116.jpg', 'bottle'), ('gs://colab-sample-bucket-8fd4e996-074b-11ea-83db-0242ac1c0002/data/bottle/bottle117.jpg', 'bottle'), ('gs://colab-sample-bucket-8fd4e996-074b-11ea-83db-0242ac1c0002/data/bottle/bottle118.jpg', 'bottle'), ('gs://colab-sample-bucket-8fd4e996-074b-11ea-83db-0242ac1c0002/data/bottle/bottle119.jpg', 'bottle'), ('gs://colab-sample-bucket-8fd4e996-074b-11ea-83db-0242ac1c0002/data/bottle/bottle120.jpg', 'bottle'), ('gs://colab-sample-bucket-8fd4e996-074b-11ea-83db-0242ac1c0002/data/bottle/bottle121.jpg', 'bottle'), ('gs://colab-sample-bucket-8fd4e996-074b-11ea-83db-0242ac1c0002/data/bottle/bottle122.jpg', 'bottle'), ('gs://colab-sample-bucket-8fd4e996-074b-11ea-83db-0242ac1c0002/data/bottle/bottle123.jpg', 'bottle'), ('gs://colab-sample-bucket-8fd4e996-074b-11ea-83db-0242ac1c0002/data/bottle/bottle124.jpg', 'bottle'), ('gs://colab-sample-bucket-8fd4e996-074b-11ea-83db-0242ac1c0002/data/bottle/bottle125.jpg', 'bottle'), ('gs://colab-sample-bucket-8fd4e996-074b-11ea-83db-0242ac1c0002/data/bottle/bottle126.jpg', 'bottle'), ('gs://colab-sample-bucket-8fd4e996-074b-11ea-83db-0242ac1c0002/data/bottle/bottle127.jpg', 'bottle'), ('gs://colab-sample-bucket-8fd4e996-074b-11ea-83db-0242ac1c0002/data/bottle/bottle128.jpg', 'bottle'), ('gs://colab-sample-bucket-8fd4e996-074b-11ea-83db-0242ac1c0002/data/bottle/bottle129.jpg', 'bottle'), ('gs://colab-sample-bucket-8fd4e996-074b-11ea-83db-0242ac1c0002/data/bottle/bottle130.jpg', 'bottle'), ('gs://colab-sample-bucket-8fd4e996-074b-11ea-83db-0242ac1c0002/data/bottle/bottle131.jpg', 'bottle'), ('gs://colab-sample-bucket-8fd4e996-074b-11ea-83db-0242ac1c0002/data/bottle/bottle132.jpg', 'bottle'), ('gs://colab-sample-bucket-8fd4e996-074b-11ea-83db-0242ac1c0002/data/bottle/bottle133.jpg', 'bottle'), ('gs://colab-sample-bucket-8fd4e996-074b-11ea-83db-0242ac1c0002/data/bottle/bottle134.jpg', 'bottle'), ('gs://colab-sample-bucket-8fd4e996-074b-11ea-83db-0242ac1c0002/data/bottle/bottle135.jpg', 'bottle'), ('gs://colab-sample-bucket-8fd4e996-074b-11ea-83db-0242ac1c0002/data/bottle/bottle136.jpg', 'bottle'), ('gs://colab-sample-bucket-8fd4e996-074b-11ea-83db-0242ac1c0002/data/bottle/bottle137.jpg', 'bottle'), ('gs://colab-sample-bucket-8fd4e996-074b-11ea-83db-0242ac1c0002/data/bottle/bottle138.jpg', 'bottle'), ('gs://colab-sample-bucket-8fd4e996-074b-11ea-83db-0242ac1c0002/data/bottle/bottle139.jpg', 'bottle')]\n"
          ],
          "name": "stdout"
        }
      ]
    },
    {
      "cell_type": "code",
      "metadata": {
        "id": "TMoIV3XS3oyK",
        "colab_type": "code",
        "colab": {}
      },
      "source": [
        "dataframe = pd.DataFrame(data_array)\n",
        "dataframe.to_csv('all_data.csv', index=False, header=False)"
      ],
      "execution_count": 0,
      "outputs": []
    },
    {
      "cell_type": "code",
      "metadata": {
        "id": "DIWfSHrv4Dhc",
        "colab_type": "code",
        "colab": {
          "base_uri": "https://localhost:8080/",
          "height": 71
        },
        "outputId": "b3c578f1-1f28-4a0c-feea-0ab8a3beb6df"
      },
      "source": [
        "!gsutil cp all_data.csv \"gs://colab-sample-bucket-8fd4e996-074b-11ea-83db-0242ac1c0002/data/\""
      ],
      "execution_count": 100,
      "outputs": [
        {
          "output_type": "stream",
          "text": [
            "Copying file://all_data.csv [Content-Type=text/csv]...\n",
            "/ [1 files][ 12.9 KiB/ 12.9 KiB]                                                \n",
            "Operation completed over 1 objects/12.9 KiB.                                     \n"
          ],
          "name": "stdout"
        }
      ]
    },
    {
      "cell_type": "code",
      "metadata": {
        "id": "5Kph0e5b4L5r",
        "colab_type": "code",
        "colab": {}
      },
      "source": [
        ""
      ],
      "execution_count": 0,
      "outputs": []
    }
  ]
}